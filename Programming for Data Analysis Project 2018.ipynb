{
 "cells": [
  {
   "cell_type": "markdown",
   "metadata": {},
   "source": [
    "# Simulation of a real world phenomenon\n",
    "\n",
    "### Project outline and objectives\n",
    "\n",
    "•\tChoose a real-world phenomenon that can be measured and for which you could collect at least one-hundred data points across at least four different variables.\n",
    "\n",
    "•\tInvestigate the types of variables involved, their likely distributions, and their relationships with each other.\n",
    "\n",
    "•\tSynthesise/simulate a data set as closely matching their properties as possible.\n",
    "\n",
    "•\tDetail your research and implement the simulation in a Jupyter notebook – the data set itself can simply be displayed in an output cell within the notebook.\n",
    "\n",
    "## Phenomenon Chosen\n",
    "\n",
    "# 'Homelessness in Ireland' - The State of our nation\n",
    "\n",
    "### Squeezed out of private rental market into homelessness \n",
    "#### \"New Homelessness in Ireland\""
   ]
  },
  {
   "cell_type": "markdown",
   "metadata": {},
   "source": [
    "Homelessness Overview\n",
    "\n",
    "Is homelessness increasing or decreasing in Ireland? Unfortunately, homelessness is increasing year on year. Between December 2014 and May 2018  there was a net increase of 6,988 people recorded as homeless. This upward trend has existed for a number of years and the number of people becoming homeless on a daily average has increased.\n",
    "\n",
    "How many people exited homelessness in 2017? In a statement reacting to the publication of the January 2018 homeless figures, Minister for Housing Eoghan Murphy said over 4,000 adults had exited homelessness in Ireland in 2017.   This means that if 7,148 people were accessing emergency accommodation in December 2016 and 8,587 people were recorded as homeless in December 2017, the net increase in cases of homelessness in Ireland during 2017 would be 1,439. This net increase together with exits means at least an additional 5,439 new cases of homelessness were recorded in 2017. This figure can also be broken down into 15 people per day. \n",
    "\n",
    "Estimated number of rough sleepers in Dublin – spring 2018 : 110 people were recorded as sleeping rough in Dublin on the night of the official rough sleeper count. "
   ]
  },
  {
   "cell_type": "markdown",
   "metadata": {},
   "source": [
    "'Truly shocking': There are now 9,846 homeless people in Ireland\n",
    "Slight rise in homeless figures, Department stats show "
   ]
  },
  {
   "cell_type": "markdown",
   "metadata": {},
   "source": [
    "\n"
   ]
  },
  {
   "cell_type": "markdown",
   "metadata": {},
   "source": [
    "\n",
    "Why do people become homeless?\n",
    "\n",
    "The reasons for people becoming homeless are both complex and wide-ranging but there is a particular risk at present for families with tenancies in the private rented sector.\n",
    "\n",
    "According to Ending Homelessness – A Housing-Led Approach (pdf), research shows that the following are the main factors that lead to homelessness:\n",
    "\n",
    "    -Housing and financial crises\n",
    "    -Discharge from institutions\n",
    "    -Family breakdown, including domestic violence\n",
    "    -Substance abuse\n",
    "    -Mental health issues\n",
    "    -The transition from youth to adulthood for young people in care or who were homeless as young people\n",
    "\n",
    "Many people are homeless for relatively short periods, for reasons linked to issues such as loss of employment, eviction or relationship breakdown. Others who experience multiple forms of social exclusion may become homeless in the long term, especially if they have been homeless before they become adults.\n"
   ]
  },
  {
   "cell_type": "markdown",
   "metadata": {},
   "source": [
    "\n"
   ]
  },
  {
   "cell_type": "markdown",
   "metadata": {},
   "source": [
    "Statistics on homelessness are important in helping to analyse and understand the issue. However, it is important to note that these numbers cannot convey the personal trauma that homelessness can bring"
   ]
  },
  {
   "cell_type": "markdown",
   "metadata": {},
   "source": [
    "**There were 9,527 people homeless in the week of August 20th-26th 2018 across Ireland. This figure includes adults and children. The number of families becoming homeless has increased by 18% since August 2017. More than one in three people in emergency accommodation is a child.**"
   ]
  },
  {
   "cell_type": "markdown",
   "metadata": {},
   "source": [
    "\n",
    "Why do people become homeless?\n",
    "\n",
    "The reasons for people becoming homeless are both complex and wide-ranging but there is a particular risk at present for families with tenancies in the private rented sector.\n",
    "\n",
    "According to Ending Homelessness – A Housing-Led Approach (pdf), research shows that the following are the main factors that lead to homelessness:\n",
    "\n",
    "    -Housing and financial crises\n",
    "    -Discharge from institutions\n",
    "    -Family breakdown, including domestic violence\n",
    "    -Substance abuse\n",
    "    -Mental health issues\n",
    "    -The transition from youth to adulthood for young people in care or who were homeless as young people\n",
    "\n",
    "Many people are homeless for relatively short periods, for reasons linked to issues such as loss of employment, eviction or relationship breakdown. Others who experience multiple forms of social exclusion may become homeless in the long term, especially if they have been homeless before they become adults.\n"
   ]
  },
  {
   "cell_type": "markdown",
   "metadata": {},
   "source": [
    "## Department of Housing, Planning and Local Government\n",
    "### Homelessness Report September 2018"
   ]
  },
  {
   "cell_type": "markdown",
   "metadata": {},
   "source": [
    "<img src=\"HRS18.png\">"
   ]
  },
  {
   "cell_type": "markdown",
   "metadata": {},
   "source": [
    "<img src =\"R18.png\">"
   ]
  },
  {
   "cell_type": "markdown",
   "metadata": {},
   "source": [
    "<img src=\"P18.png\">"
   ]
  },
  {
   "cell_type": "markdown",
   "metadata": {},
   "source": [
    "### Investigation of the types of variables, their likely distributions, and their relationships \n",
    "\n",
    "**Variables of interest Chosen**\n",
    "\n"
   ]
  },
  {
   "cell_type": "markdown",
   "metadata": {},
   "source": [
    "- Region (Categorical : Location, Dublin / Elsewhere)\n",
    "- Adults (Continuous: 18 - 80 )\n",
    "- Adult Gender ( Continuous:: Male / Female )\n",
    "- Accomodation Type ( Categorical: PEA, STA, TEA, Other)\n",
    "\n",
    "#### Accomodation Type\n",
    "- PEA (Private Emergency Accomodation : This may include hotels, B&Bs, and other residential facilities that are used on an emergency basis\n",
    "- STA ( Supported Temporary Accomodation : accomodation, including hostels, with onsite professional support)\n",
    "- TEA ( Temporary Emergency Accomodation : emergency accomodation with no ( or minimal ) support."
   ]
  },
  {
   "cell_type": "markdown",
   "metadata": {},
   "source": [
    "### First of all let us import the necessary modules to assist us with this data simulation"
   ]
  },
  {
   "cell_type": "code",
   "execution_count": 10,
   "metadata": {},
   "outputs": [],
   "source": [
    "import pandas as pd\n",
    "import numpy as np\n",
    "import matplotlib.pyplot as plt"
   ]
  },
  {
   "cell_type": "markdown",
   "metadata": {},
   "source": [
    "## Region Variable (Categorical : Location, Dublin / Elsewhere)"
   ]
  },
  {
   "cell_type": "markdown",
   "metadata": {},
   "source": [
    "The first variable we will look at will be the *Region* variable, this is a categorical variable which comprises of two options. From the imported **Homelessness Report September 2018** on which I am basing this project data on, I have condensed the reions into two options, which are, \"Dublin\" and \"Elsewhere\", as the majority of the split lies in Dublin at 68% and the rest of the country coming in at 32%. The triangular distribution deemed the most suitable for this sample, as the triangular distribution is a continuous probability distribution with lower limit left, peak at mode, and upper limit right. Unlike the other distributions, these parameters directly define the shape of the pdf. The triangular distribution also features a mode, which is the value the most appears. The triangular distribution is often used in ill-defined problems where the underlying distribution is not known, but some knowledge of the limits and mode exists. Often it is used in simulations."
   ]
  },
  {
   "cell_type": "code",
   "execution_count": 94,
   "metadata": {},
   "outputs": [
    {
     "data": {
      "text/plain": [
       "array([87., 70., 47., 77., 55., 54., 10., 35., 27., 29., 14., 58., 39.,\n",
       "       50., 47., 31., 36., 34., 38., 89., 31.,  6., 76., 69., 30., 47.,\n",
       "       31., 23., 24., 34., 14., 49., 57., 77., 32., 27., 31., 64., 73.,\n",
       "       34.,  2., 10., 19., 45., 16., 27., 12., 47.,  8., 67., 28., 57.,\n",
       "       43., 10., 43., 49., 21., 61., 46., 42., 47., 51., 25., 60., 67.,\n",
       "       55., 52., 37., 67., 50., 29., 40., 33.,  9., 44., 66., 81., 51.,\n",
       "       14., 33., 10., 21., 43., 21., 43., 40., 69., 54., 73., 26., 25.,\n",
       "       53., 73., 89., 48., 29., 46., 63., 47., 17., 27., 90., 35., 43.,\n",
       "       40., 22., 20., 39., 91., 33., 54., 21., 13., 20., 20., 27., 41.,\n",
       "       59., 70., 48., 67., 45., 52., 41., 71., 11., 60., 19., 12., 12.,\n",
       "       11., 40., 33., 98., 16., 29., 96., 33., 70., 43., 81., 71., 59.,\n",
       "        9., 83., 40., 23., 69., 24., 19., 55., 86., 41., 35.,  7., 46.,\n",
       "       84., 84., 77., 21., 47., 34., 31., 10., 69., 50., 15., 71., 60.,\n",
       "       28., 63., 39.,  7., 35., 36., 24., 64., 56., 44., 38., 38., 26.,\n",
       "       46., 57., 26., 40., 16., 54., 71., 43., 94., 21.,  6., 36., 77.,\n",
       "       66., 37., 73., 24., 28., 38., 68., 57., 77., 77., 45., 46., 78.,\n",
       "       90., 82., 52., 61., 72., 73., 53., 65., 61., 10., 76., 83., 52.,\n",
       "       68., 24., 53., 87., 70., 55., 77., 49., 65., 82., 57., 78., 33.,\n",
       "       73., 73., 41., 86., 58., 85., 21., 37., 19., 71., 67., 63., 18.,\n",
       "       65., 50., 61., 29., 67., 65.,  7., 68., 85., 77., 96., 90., 77.,\n",
       "       46., 68., 60., 38., 54., 20., 58., 93., 30., 30., 74., 66., 59.,\n",
       "       28., 41., 84., 56., 63.,  7., 47., 57., 68., 86., 69., 73., 34.,\n",
       "       75., 79., 69., 57., 34., 65., 63., 89., 60., 61., 63., 79., 21.,\n",
       "       71., 76., 73., 77., 65., 91., 33., 15., 67., 29., 89., 49., 38.,\n",
       "       59., 86., 83., 44., 51., 37., 84., 73., 74., 84., 77., 67., 47.,\n",
       "       34., 50., 70., 23., 20., 49., 67., 81., 46., 36., 32., 96., 37.,\n",
       "       49., 65.,  8., 84., 92., 65., 25., 50., 74., 33., 64., 45., 92.,\n",
       "       71., 44., 29., 76., 77., 76., 85., 70., 65., 39., 72., 89., 83.,\n",
       "       96., 79., 64., 58., 83., 92., 67., 52., 49., 82., 40., 74., 52.,\n",
       "       78., 77., 73., 68., 61., 80., 73., 58., 15., 52., 74., 60., 51.,\n",
       "       69., 31., 36., 74., 31., 53., 67., 28., 78., 88.])"
      ]
     },
     "execution_count": 94,
     "metadata": {},
     "output_type": "execute_result"
    }
   ],
   "source": [
    "np.random.seed(1234)\n",
    "Reg2 = np.random.triangular(0, 75, 100, 200)# Dublin Region\n",
    "Reg1 = np.random.triangular(0, 25, 100, 200)# Elsewhere\n",
    "Reg = np.concatenate((Reg1,Reg2))\n",
    "Reg.round()"
   ]
  },
  {
   "cell_type": "code",
   "execution_count": 95,
   "metadata": {},
   "outputs": [
    {
     "data": {
      "image/png": "[encoded data removed]",
      "text/plain": [
       "<Figure size 432x288 with 1 Axes>"
      ]
     },
     "metadata": {},
     "output_type": "display_data"
    }
   ],
   "source": [
    "import matplotlib.pyplot as plt\n",
    "import numpy as np\n",
    "\n",
    "plt.hist([Reg1,Reg2], label=['Reg1','Reg2'])\n",
    "plt.legend()\n",
    "plt.ylabel('Homeless Adults')\n",
    "plt.xlabel('Region')\n",
    "plt.title('Homelessness Report September 2018')\n",
    "\n",
    "plt.show()"
   ]
  },
  {
   "cell_type": "markdown",
   "metadata": {},
   "source": [
    "As a result of using the triangular distribution, the graph indicates a higher % in orange, which denotes the Dublin Region, and the blue which denotes, Elsewhere region, which is every where outside Dublin within the repulic. The reason I have chose this divide , as it is seems to be that Dublin has the highest count, of the the total Homeless Adults."
   ]
  },
  {
   "cell_type": "markdown",
   "metadata": {},
   "source": [
    "## Adult Age Variable (Continuous: 18 - 80 Age Group )"
   ]
  },
  {
   "cell_type": "markdown",
   "metadata": {},
   "source": [
    "The next Variable, in the dataset I will simulate, will be the Adult Age Group. The age variable is a continuous numerical variable. From intensive research online, and reading of countless of reports and articles regarding Homelessness in Ireland. If anything, there seems to be a constant age group where the majority of Homeless Adults fit into. This age group is , ages between 25 -44yrs, with 45 -64yrs being the second largest group. Therefore I will simulate data of a general age from 18 - 80yrs, hoping that any person over the age of 80yrs is been cared for age appropiately, and additional data showcasing the age breakdown. I intend to use Draw samples from a uniform distribution, as this distribution will allow me to set both the lower and upper ranges for the age group, subesequently this is why I will proceed to break down the age range into smaller groups also, on doing this I can then see , which group will fit my data set best."
   ]
  },
  {
   "cell_type": "code",
   "execution_count": 96,
   "metadata": {},
   "outputs": [
    {
     "data": {
      "text/plain": [
       "array([30., 57., 45., 67., 66., 35., 35., 68., 77., 72., 40., 49., 60.,\n",
       "       62., 41., 53., 49., 19., 66., 73., 41., 56., 23., 41., 76., 58.,\n",
       "       43., 67., 38., 53., 72., 45., 68., 27., 62., 62., 32., 75., 45.,\n",
       "       74., 22., 29., 21., 60., 55., 51., 21., 53., 38., 49., 25., 56.,\n",
       "       53., 18., 56., 75., 67., 80., 77., 67., 36., 57., 48., 30., 42.,\n",
       "       21., 46., 79., 26., 25., 64., 54., 47., 25., 32., 74., 44., 51.,\n",
       "       18., 37., 45., 56., 75., 57., 62., 27., 64., 70., 57., 45., 27.,\n",
       "       53., 51., 77., 48., 49., 51., 69., 22., 60., 66., 62., 67., 53.,\n",
       "       78., 27., 20., 55., 25., 77., 38., 30., 46., 75., 73., 34., 40.,\n",
       "       29., 74., 62., 63., 74., 66., 55., 36., 27., 39., 59., 23., 21.,\n",
       "       38., 55., 71., 36., 29., 26., 80., 29., 38., 53., 19., 74., 79.,\n",
       "       53., 23., 39., 63., 27., 52., 35., 78., 59., 34., 25., 66., 67.,\n",
       "       65., 75., 59., 53., 31., 61., 77., 73., 80., 69., 52., 46., 73.,\n",
       "       78., 55., 41., 38., 72., 31., 64., 41., 68., 67., 61., 57., 49.,\n",
       "       70., 62., 46., 20., 41., 63., 47., 39., 58., 26., 29., 64., 26.,\n",
       "       41., 55., 24., 68., 77.])"
      ]
     },
     "execution_count": 96,
     "metadata": {},
     "output_type": "execute_result"
    }
   ],
   "source": [
    "np.random.seed(1234)\n",
    "age = np.random.uniform(18,80,200)# Adults aged beween 18 -80  yrs old\n",
    "age.round()"
   ]
  },
  {
   "cell_type": "code",
   "execution_count": 97,
   "metadata": {},
   "outputs": [
    {
     "data": {
      "text/plain": [
       "200"
      ]
     },
     "execution_count": 97,
     "metadata": {},
     "output_type": "execute_result"
    }
   ],
   "source": [
    "len(age)"
   ]
  },
  {
   "cell_type": "code",
   "execution_count": 98,
   "metadata": {},
   "outputs": [
    {
     "data": {
      "text/plain": [
       "50.70763927611952"
      ]
     },
     "execution_count": 98,
     "metadata": {},
     "output_type": "execute_result"
    }
   ],
   "source": [
    "np.mean(age)"
   ]
  },
  {
   "cell_type": "code",
   "execution_count": 99,
   "metadata": {},
   "outputs": [
    {
     "data": {
      "text/plain": [
       "52.8015072499997"
      ]
     },
     "execution_count": 99,
     "metadata": {},
     "output_type": "execute_result"
    }
   ],
   "source": [
    "np.median(age)"
   ]
  },
  {
   "cell_type": "code",
   "execution_count": 100,
   "metadata": {},
   "outputs": [
    {
     "data": {
      "image/png": "[encoded data removed]",
      "text/plain": [
       "<Figure size 432x288 with 1 Axes>"
      ]
     },
     "metadata": {},
     "output_type": "display_data"
    }
   ],
   "source": [
    "x = np.random.randint(18,90,200)\n",
    "plt.hist(x)\n",
    "plt.ylabel('Homeless Adults')\n",
    "plt.xlabel('Age')\n",
    "plt.title('Homelessness Report September 2018')\n",
    "plt.show()"
   ]
  },
  {
   "cell_type": "code",
   "execution_count": 101,
   "metadata": {},
   "outputs": [
    {
     "data": {
      "text/plain": [
       "array([18., 21., 21., 19., 23., 22., 22., 21., 21., 20., 22., 23., 20.,\n",
       "       21., 19., 22., 23., 21., 24., 19., 18., 21., 24., 23., 21., 23.,\n",
       "       19., 20., 22., 22., 18., 20., 21., 24., 20., 19., 21., 22., 20.,\n",
       "       23., 23., 23., 20., 24., 24., 22., 23., 19., 21., 23., 43., 37.,\n",
       "       42., 38., 26., 41., 32., 43., 34., 27., 43., 25., 38., 28., 28.,\n",
       "       37., 44., 38., 39., 33., 28., 29., 40., 26., 34., 28., 37., 35.,\n",
       "       36., 41., 43., 29., 39., 38., 30., 42., 35., 36., 31., 31., 31.,\n",
       "       44., 29., 38., 36., 26., 35., 29., 27., 42., 46., 63., 51., 53.,\n",
       "       48., 47., 53., 57., 48., 64., 48., 59., 54., 60., 51., 45., 54.,\n",
       "       58., 46., 58., 52., 56., 49., 50., 63., 61., 48., 57., 62., 59.,\n",
       "       55., 48., 46., 61., 47., 55., 62., 46., 58., 54., 48., 46., 46.,\n",
       "       50., 47., 53., 46., 63., 63., 60., 70., 80., 88., 89., 67., 73.,\n",
       "       82., 81., 81., 86., 83., 73., 69., 84., 74., 67., 83., 87., 66.,\n",
       "       69., 76., 74., 66., 68., 76., 67., 85., 87., 68., 70., 76., 89.,\n",
       "       84., 68., 88., 86., 75., 69., 66., 67., 87., 69., 74., 81., 80.,\n",
       "       75., 74., 67., 76., 83.])"
      ]
     },
     "execution_count": 101,
     "metadata": {},
     "output_type": "execute_result"
    }
   ],
   "source": [
    "GP1 = np.random.uniform(18,24,50)\n",
    "GP2 = np.random.uniform(25,44,50)\n",
    "GP3 = np.random.uniform(45,64,50)\n",
    "GP4 = np.random.uniform(65,90,50)\n",
    "GP = np.concatenate((GP1,GP2,GP3,GP4))\n",
    "GP.round(0)"
   ]
  },
  {
   "cell_type": "code",
   "execution_count": 102,
   "metadata": {},
   "outputs": [
    {
     "data": {
      "text/plain": [
       "200"
      ]
     },
     "execution_count": 102,
     "metadata": {},
     "output_type": "execute_result"
    }
   ],
   "source": [
    "len(GP)"
   ]
  },
  {
   "cell_type": "code",
   "execution_count": 103,
   "metadata": {},
   "outputs": [
    {
     "data": {
      "text/plain": [
       "46.49689537223782"
      ]
     },
     "execution_count": 103,
     "metadata": {},
     "output_type": "execute_result"
    }
   ],
   "source": [
    "np.mean(GP)"
   ]
  },
  {
   "cell_type": "code",
   "execution_count": 104,
   "metadata": {},
   "outputs": [
    {
     "data": {
      "text/plain": [
       "21.487132825295205"
      ]
     },
     "execution_count": 104,
     "metadata": {},
     "output_type": "execute_result"
    }
   ],
   "source": [
    "np.std(GP)"
   ]
  },
  {
   "cell_type": "code",
   "execution_count": 105,
   "metadata": {},
   "outputs": [
    {
     "data": {
      "image/png": "[encoded data removed]",
      "text/plain": [
       "<Figure size 432x288 with 1 Axes>"
      ]
     },
     "metadata": {},
     "output_type": "display_data"
    }
   ],
   "source": [
    "plt.hist([GP1,GP2,GP3,GP4], label=['Group1','Group2','Group3','Group4'])\n",
    "plt.legend()\n",
    "plt.ylabel('Homeless Adults')\n",
    "plt.xlabel('Age Groups')\n",
    "plt.title('Homelessness Report September 2018')\n",
    "\n",
    "plt.show()\n"
   ]
  },
  {
   "cell_type": "markdown",
   "metadata": {},
   "source": [
    "On plotting the two different selections for age, I tend to agree that the secon selection, as per above, leans more favourably to my research, as the largest age group can be seen to Group 1 & Group 2, in comparison to the first histogram, which shows the majority age group count to be in and around 60 -70 yrs old. Taking the second group range, that is with the four groups, I think this is a more adequate representation of the majority age group of Adults of whom are Homeless."
   ]
  },
  {
   "cell_type": "markdown",
   "metadata": {},
   "source": [
    "## Adult Gender  Variable ( Continuous:: Male / Female )"
   ]
  },
  {
   "cell_type": "code",
   "execution_count": 111,
   "metadata": {},
   "outputs": [
    {
     "data": {
      "text/plain": [
       "array([2, 2, 1, 2, 1, 1, 1, 2, 2, 2, 2, 2, 1, 1, 2, 1, 1, 1, 1, 1, 1, 1,\n",
       "       1, 1, 2, 1, 2, 2, 1, 1, 2, 1, 1, 2, 1, 2, 1, 1, 1, 2, 2, 2, 1, 2,\n",
       "       2, 1, 2, 1, 2, 1, 2, 2, 2, 2, 1, 2, 1, 2, 2, 1, 1, 2, 1, 1, 2, 2,\n",
       "       2, 1, 1, 1, 2, 2, 2, 2, 2, 2, 2, 1, 2, 1, 2, 1, 2, 1, 1, 1, 1, 1,\n",
       "       1, 1, 1, 2, 2, 2, 1, 2, 1, 1, 2, 2, 1, 2, 1, 2, 2, 1, 2, 1, 1, 1,\n",
       "       2, 2, 1, 1, 1, 1, 1, 2, 2, 2, 2, 1, 2, 1, 2, 1, 2, 1, 2, 1, 2, 1,\n",
       "       2, 1, 2, 1, 2, 2, 2, 2, 1, 2, 2, 2, 1, 1, 1, 2, 1, 2, 1, 2, 2, 1,\n",
       "       2, 1, 1, 2, 2, 2, 2, 1, 1, 1, 2, 1, 1, 1, 1, 1, 1, 1, 2, 1, 1, 2,\n",
       "       2, 1, 1, 1, 2, 1, 1, 2, 2, 1, 1, 2, 2, 1, 1, 2, 2, 1, 1, 2, 2, 1,\n",
       "       2, 1])"
      ]
     },
     "execution_count": 111,
     "metadata": {},
     "output_type": "execute_result"
    }
   ],
   "source": [
    "Male = 1\n",
    "Female = 2\n",
    "np.random.seed(1234)\n",
    "Gender = np.random.randint(1,3, 200)# 200 Homeless Adults\n",
    "Gender"
   ]
  },
  {
   "cell_type": "code",
   "execution_count": 107,
   "metadata": {},
   "outputs": [
    {
     "data": {
      "text/plain": [
       "200"
      ]
     },
     "execution_count": 107,
     "metadata": {},
     "output_type": "execute_result"
    }
   ],
   "source": [
    "len(Gender)"
   ]
  },
  {
   "cell_type": "code",
   "execution_count": 110,
   "metadata": {},
   "outputs": [
    {
     "data": {
      "image/png": "[encoded data removed]",
      "text/plain": [
       "<Figure size 432x288 with 1 Axes>"
      ]
     },
     "metadata": {},
     "output_type": "display_data"
    }
   ],
   "source": [
    "x = np.random.randint(1,3, 400)\n",
    "plt.hist(x)\n",
    "plt.ylabel('Homeless Adults')\n",
    "plt.xlabel('Gender,  Male = 1 , Female = 2')\n",
    "plt.title('Homelessness Report September 2018')\n",
    "plt.show()"
   ]
  },
  {
   "cell_type": "markdown",
   "metadata": {},
   "source": [
    "### Accomodation Type ( Categorical: PEA, STA, TEA, Other)\n",
    "\n",
    "## Accomodation Type\n",
    "\n",
    "- PEA (Private Emergency Accomodation : This may include hotels, B&Bs, and other residential facilities that are used on an emergency basis\n",
    "- STA ( Supported Temporary Accomodation : accomodation, including hostels, with onsite professional support)\n",
    "- TEA ( Temporary Emergency Accomodation : emergency accomodation with no ( or minimal ) support.\n",
    "\n",
    "Because of the varies types of accomodation, I can group them into two distinct options, which are supported and not(other), but because the % accounted for, shows the majority figure supported and a small amount , that is other , whom seem to receive no support. the distribution I deemed fit for this selectionis numpy.random.randn, this will return a sample (or samples) from the “standard normal” distribution.If positive, int_like or int-convertible arguments are provided, randn generates an array of shape (d0, d1, ..., dn), filled with random floats sampled from a univariate “normal” (Gaussian) distribution of mean 0 and variance 1 (if any of the d_i are floats, they are first converted to integers by truncation). A single float randomly sampled from the distribution is returned if no argument is provided.\n",
    "\n"
   ]
  },
  {
   "cell_type": "code",
   "execution_count": 124,
   "metadata": {},
   "outputs": [
    {
     "data": {
      "text/plain": [
       "array([3, 2, 1, 3, 1, 3, 2, 2, 3, 3, 1, 1, 3, 2, 3, 3, 3, 2, 2, 1, 1, 2,\n",
       "       2, 1, 3, 3, 2, 1, 1, 3, 2, 2, 1, 1, 2, 1, 3, 3, 2, 1, 2, 3, 1, 2,\n",
       "       3, 3, 1, 1, 1, 1, 2, 2, 2, 2, 1, 1, 2, 3, 3, 2, 1, 1, 1, 3, 3, 2,\n",
       "       3, 3, 3, 1, 2, 1, 1, 3, 3, 2, 3, 3, 3, 1, 1, 3, 2, 3, 2, 2, 1, 1,\n",
       "       2, 2, 2, 3, 1, 3, 2, 1, 1, 3, 2, 3, 3, 3, 3, 3, 3, 3, 3, 3, 3, 3,\n",
       "       3, 3, 1, 3, 2, 2, 1, 3, 3, 3, 1, 1, 1, 3, 2, 3, 1, 1, 3, 2, 1, 1,\n",
       "       1, 2, 1, 1, 1, 1, 3, 2, 2, 1, 1, 3, 1, 1, 3, 3, 3, 3, 1, 3, 1, 2,\n",
       "       3, 1, 1, 3, 2, 2, 1, 1, 1, 3, 2, 2, 2, 3, 2, 2, 3, 1, 1, 3, 2, 3,\n",
       "       3, 3, 1, 3, 3, 1, 3, 2, 2, 1, 3, 2, 3, 3, 2, 1, 2, 1, 3, 3, 2, 1,\n",
       "       1, 2])"
      ]
     },
     "execution_count": 124,
     "metadata": {},
     "output_type": "execute_result"
    }
   ],
   "source": [
    "ACCTyp = np.random.randint(1,4,200)\n",
    "ACCTyp\n"
   ]
  },
  {
   "cell_type": "code",
   "execution_count": 137,
   "metadata": {},
   "outputs": [
    {
     "data": {
      "image/png": "[encoded data removed]",
      "text/plain": [
       "<Figure size 432x288 with 1 Axes>"
      ]
     },
     "metadata": {},
     "output_type": "display_data"
    }
   ],
   "source": [
    "x = np.random.randint(1,4,200)\n",
    "plt.hist(x)\n",
    "plt.ylabel('Homeless Adults')\n",
    "plt.xlabel('Accomodation Type Supported')\n",
    "plt.title('Homelessness Report September 2018')\n",
    "plt.show()\n",
    "\n"
   ]
  },
  {
   "cell_type": "code",
   "execution_count": 62,
   "metadata": {},
   "outputs": [
    {
     "data": {
      "text/plain": [
       "array([11.,  6., 17., 16., 11.,  2., 14., 16.,  6.,  5.,  6., 12., 12.,\n",
       "        1., 12.,  2., 14., 13., 10.,  2., 13., 10.,  1.,  9., 10.,  7.,\n",
       "        2.,  8., 15.,  7., 18., 11., 12.,  1., 12., 11., 10., 10., 16.,\n",
       "       13., 17.,  3.,  5.,  2., 12., 17.,  8., 12.,  5.,  6., 15., 15.,\n",
       "       12., 13.,  5.,  0.,  5.,  2.,  4., 16.,  2., 16.,  6., 16.,  4.,\n",
       "        2., 16.,  9., 17.,  7., 14.,  7.,  6.,  5., 18.,  8., 10.,  2.,\n",
       "        2.,  4., 13.,  9.,  3., 12., 14.,  8., 12., 13.,  9.,  3., 12.,\n",
       "       17., 12.,  2.,  7.,  7.,  4., 15.,  4.,  1., 16.,  8.,  6.,  0.,\n",
       "        5., 11., 16.,  8.,  7.,  3.,  7., 10., 11.,  8., 17., 17., 11.,\n",
       "       15.,  4., 14.,  3.,  6.,  4., 13., 16., 14.,  2., 11.,  7.,  5.,\n",
       "       13.,  2.,  3.,  9., 13., 14., 10., 13.,  6., 16.,  5., 13.,  3.,\n",
       "        9., 13., 17., 14., 15.,  3.,  5.,  2., 12.,  6., 11.,  9., 18.,\n",
       "       12.,  7.,  3.,  5.,  4., 18.,  0., 18., 15., 16.,  5., 14.,  7.,\n",
       "        3.,  8., 17.,  2., 12.,  4., 11.,  6., 16.,  8., 11., 11., 12.,\n",
       "        9., 11.,  3., 17.,  0.,  7.,  1.,  9., 12.,  6.,  6., 10., 17.,\n",
       "       16.,  4.,  2.,  6., 13., 10.,  0.,  8., 15.,  7.,  5.,  1.,  4.,\n",
       "        2.,  2.,  0.,  3., 14., 13.,  7.,  5.,  9.,  3., 10., 13., 14.,\n",
       "        7.,  3., 16., 12., 17.,  8., 13., 13.,  1.,  3., 16., 10., 13.,\n",
       "        0.,  3.,  1., 11.,  6.,  0.,  2.,  7., 15., 10.,  3., 16., 11.,\n",
       "        2., 14.,  7.])"
      ]
     },
     "execution_count": 62,
     "metadata": {},
     "output_type": "execute_result"
    }
   ],
   "source": [
    "import numpy as np\n",
    "Depen= np.random.uniform(0,18,250)\n",
    "Depen.round()"
   ]
  },
  {
   "cell_type": "markdown",
   "metadata": {},
   "source": [
    "- Sample Standard Deviation, s\t5.0255387870606\n",
    "- Variance (Sample Standard), s2\t25.256040100251\n",
    "- Population Standard Deviation, σ\t5.0192529324592\n",
    "- Variance (Population Standard), σ2\t25.1929\n",
    "- Total Numbers, N\t400\n",
    "- Sum:\t3556\n",
    "- Mean (Average):\t8.89\n",
    "- Standard Error of the Mean (SEx̄):\t0.25127693935303"
   ]
  },
  {
   "cell_type": "code",
   "execution_count": 63,
   "metadata": {},
   "outputs": [
    {
     "data": {
      "text/plain": [
       "250"
      ]
     },
     "execution_count": 63,
     "metadata": {},
     "output_type": "execute_result"
    }
   ],
   "source": [
    "len(Depen) # Children under the age of 18yrs old"
   ]
  },
  {
   "cell_type": "code",
   "execution_count": 64,
   "metadata": {},
   "outputs": [
    {
     "data": {
      "text/plain": [
       "8.857440064046052"
      ]
     },
     "execution_count": 64,
     "metadata": {},
     "output_type": "execute_result"
    }
   ],
   "source": [
    "np.mean(Depen)"
   ]
  },
  {
   "cell_type": "code",
   "execution_count": 65,
   "metadata": {},
   "outputs": [
    {
     "data": {
      "text/plain": [
       "8.754085215005134"
      ]
     },
     "execution_count": 65,
     "metadata": {},
     "output_type": "execute_result"
    }
   ],
   "source": [
    "np.median(Depen)"
   ]
  },
  {
   "cell_type": "code",
   "execution_count": 37,
   "metadata": {},
   "outputs": [
    {
     "data": {
      "text/plain": [
       "5.135629829923492"
      ]
     },
     "execution_count": 37,
     "metadata": {},
     "output_type": "execute_result"
    }
   ],
   "source": [
    "np.std(Depen)"
   ]
  },
  {
   "cell_type": "code",
   "execution_count": 66,
   "metadata": {},
   "outputs": [
    {
     "data": {
      "image/png": "[encoded data removed]",
      "text/plain": [
       "<Figure size 432x288 with 1 Axes>"
      ]
     },
     "metadata": {},
     "output_type": "display_data"
    }
   ],
   "source": [
    "x = np.random.randint(0,18,200)\n",
    "plt.hist(x)\n",
    "plt.ylabel('Homeless Dependents')\n",
    "plt.xlabel('Age')\n",
    "plt.title('Homelessness Report September 2018')\n",
    "plt.show()"
   ]
  },
  {
   "cell_type": "code",
   "execution_count": 39,
   "metadata": {},
   "outputs": [],
   "source": [
    "import matplotlib.pyplot as plt\n",
    "%matplotlib inline"
   ]
  },
  {
   "cell_type": "code",
   "execution_count": null,
   "metadata": {},
   "outputs": [],
   "source": []
  },
  {
   "cell_type": "markdown",
   "metadata": {},
   "source": [
    "- Sample Standard Deviation, s\t22.286842719326\n",
    "- Variance (Sample Standard), s2\t496.70335839599\n",
    "- Population Standard Deviation, σ\t22.258966732533\n",
    "- Variance (Population Standard), σ2\t495.4616\n",
    "- Total Numbers, N\t400\n",
    "- Sum:\t18712\n",
    "- Mean (Average):\t46.78\n",
    "- Standard Error of the Mean (SEx̄):\t1.1143421359663   "
   ]
  },
  {
   "cell_type": "code",
   "execution_count": null,
   "metadata": {},
   "outputs": [],
   "source": []
  },
  {
   "cell_type": "code",
   "execution_count": null,
   "metadata": {},
   "outputs": [],
   "source": []
  },
  {
   "cell_type": "code",
   "execution_count": null,
   "metadata": {},
   "outputs": [],
   "source": []
  },
  {
   "cell_type": "code",
   "execution_count": null,
   "metadata": {},
   "outputs": [],
   "source": []
  },
  {
   "cell_type": "code",
   "execution_count": null,
   "metadata": {},
   "outputs": [],
   "source": []
  },
  {
   "cell_type": "code",
   "execution_count": null,
   "metadata": {},
   "outputs": [],
   "source": [
    "\n"
   ]
  },
  {
   "cell_type": "code",
   "execution_count": null,
   "metadata": {},
   "outputs": [],
   "source": []
  },
  {
   "cell_type": "code",
   "execution_count": 48,
   "metadata": {},
   "outputs": [
    {
     "data": {
      "text/plain": [
       "array([ 2.44979997e+00, -3.92187340e+00,  2.66976335e+00, -1.23460686e+00,\n",
       "        1.71218904e+00,  7.79549764e-01, -1.30328094e+00,  2.69083973e+00,\n",
       "       -4.48182222e+00,  3.49403354e-01,  4.76112880e+00,  6.55968169e+00,\n",
       "       -1.56469825e+00,  2.94496170e+00,  3.49823601e+00, -4.66429751e+00,\n",
       "        1.67681478e+00,  1.19294982e+00,  1.00244911e+00,  2.26219981e+00,\n",
       "        4.18677931e+00,  5.22497091e-01, -1.92559971e+00,  4.07341369e+00,\n",
       "        5.01931212e-01,  5.53666905e-01,  2.74323016e+00, -5.03355369e-01,\n",
       "        9.73967762e-01, -4.67396400e-01,  2.99521789e+00,  1.50620334e+00,\n",
       "       -5.20382708e-01, -1.00243912e-01, -2.27800301e+00, -1.05098189e+00,\n",
       "        3.75851655e+00,  3.54258823e+00, -4.46414854e+00,  9.81457783e-01,\n",
       "       -3.83531962e+00,  1.46851782e+00,  4.82983176e+00, -2.66853597e+00,\n",
       "        1.76043584e-01, -2.91000990e+00, -2.77926401e+00,  3.83124919e+00,\n",
       "        3.21138526e+00, -1.10843856e+00,  1.57486909e+00, -1.03059801e+00,\n",
       "        5.28708643e+00,  3.55159536e+00,  4.09611939e+00, -1.23000224e-01,\n",
       "       -1.21396686e+00,  7.86092073e-01,  1.45190858e+00,  2.34856809e+00,\n",
       "        9.28323042e-01,  9.57031043e-01, -1.22843409e+00,  1.74018034e+00,\n",
       "       -3.87867454e+00,  4.67623782e+00,  3.29602187e+00,  1.53792571e-01,\n",
       "       -2.75348298e-01, -2.01246313e+00,  2.05583740e+00, -1.09432390e+00,\n",
       "        1.00672559e+00,  2.08701710e+00, -1.22674099e+00,  4.30750691e+00,\n",
       "       -5.87512725e+00, -2.87277126e+00, -3.19487434e+00,  5.73922023e-01,\n",
       "        2.91333886e+00,  1.14087513e+00, -1.14523197e+00,  1.31020756e+00,\n",
       "        2.66125298e+00,  1.97009737e+00,  5.79428799e+00, -1.44611053e+00,\n",
       "        1.26795393e+00,  1.47018500e+00, -8.38103982e-01,  3.73939297e+00,\n",
       "       -4.03576459e+00, -1.26021709e-01, -2.41593002e+00,  1.39233526e+00,\n",
       "        3.84024750e+00,  2.34717546e+00,  2.16379397e-03, -4.57570447e+00,\n",
       "        1.90216870e+00,  2.43793731e+00, -1.55389647e+00, -2.75747063e+00,\n",
       "        1.91227653e+00,  7.02950205e-01,  1.02319997e+00, -2.78937242e+00,\n",
       "        6.41943483e+00, -4.34886523e-01,  2.19513990e+00, -4.49681481e+00,\n",
       "       -1.86867246e+00, -2.66767437e+00, -2.95325520e+00,  3.28212581e+00,\n",
       "       -5.30686039e-01, -5.39096661e-01,  1.40161635e+00,  3.28066408e+00,\n",
       "        5.45771900e-01,  1.02179712e+00,  1.42833347e+00, -1.18565003e+00,\n",
       "       -4.20409298e+00,  2.17638906e+00,  1.06361905e+00, -5.61323478e+00,\n",
       "       -8.16115655e-02,  4.30028571e-01,  5.94912568e+00, -1.01148391e+00,\n",
       "        1.38963283e+00, -8.85232011e-01,  2.31070760e+00, -2.53565337e+00,\n",
       "        2.23035324e+00,  2.62174852e+00,  2.34287723e-01, -1.83141318e+00,\n",
       "        9.53859199e-01, -5.78880276e+00, -2.78447020e-01, -1.83350385e-01,\n",
       "        5.25415739e-01, -2.91926649e+00, -3.75372220e-01,  4.20223937e-01,\n",
       "        5.61733682e-01, -4.48657612e+00,  1.30847921e+00,  1.61436125e+00,\n",
       "       -1.53732498e-01, -4.86085481e+00, -2.94024400e+00,  1.22388645e+00,\n",
       "        7.20349509e+00,  4.37537500e+00, -1.04216644e+00,  2.81512646e+00,\n",
       "        3.47358372e+00,  2.73353719e+00,  5.78501244e+00, -5.10402986e+00,\n",
       "        3.33946957e+00,  1.18131280e+00,  2.97628398e+00,  4.63775387e+00,\n",
       "        3.32526764e-01, -2.37725836e-01,  4.23536067e+00,  3.01296523e+00,\n",
       "       -5.92325501e-01, -6.06150606e-01,  2.16241248e+00,  5.74904456e-01,\n",
       "       -1.52042386e+00, -4.68805057e+00, -4.64685929e+00,  9.06054267e-02,\n",
       "        3.95533882e-01, -1.29647543e+00, -1.74803584e+00,  3.36980778e+00,\n",
       "        6.66011078e+00, -3.63333345e-01,  3.10774058e+00,  4.06489304e+00,\n",
       "        3.90538922e+00,  2.30094901e+00,  2.96804244e+00, -1.54770553e+00,\n",
       "        4.34052804e+00,  4.21609608e+00,  1.62590035e+00,  1.39548519e+00,\n",
       "        5.28225109e+00,  2.69142527e+00, -1.31827128e+00, -1.03813592e+00,\n",
       "       -8.59233362e-01, -2.56264531e-01, -1.17387535e+00, -1.24081514e+00,\n",
       "        2.49573984e+00,  2.79755688e+00, -2.96124283e+00,  1.88271439e+00,\n",
       "        1.39631976e+01,  1.21094220e+00,  9.81656883e-01,  3.37329124e+00,\n",
       "        1.12278748e+00,  4.66068132e+00,  3.37698227e+00, -1.40367155e+00,\n",
       "       -2.48383585e-01,  4.08936148e+00, -5.69557527e+00, -2.60846579e-02,\n",
       "       -2.12029410e+00,  6.06772222e+00,  9.61890468e+00,  1.64579373e+00,\n",
       "        9.33637661e-01, -1.52580798e+00, -7.41570152e-01, -4.41582438e+00,\n",
       "       -6.41765037e-01, -4.34384369e-01, -1.51043744e-01,  1.00028201e+00,\n",
       "        1.57504882e-01,  1.81877597e+00,  4.70734189e+00,  2.94727067e+00,\n",
       "        9.98958964e-01, -4.50050056e+00,  5.91234342e+00,  2.08205993e+00,\n",
       "        1.78455460e-02, -1.32482123e+00,  2.00869522e+00,  3.47561979e+00,\n",
       "        1.13013946e+00, -4.15115397e-02,  1.23958542e+00, -5.04760013e-01,\n",
       "        5.19385487e+00,  2.93674118e+00, -9.13260609e-01, -1.33859167e+00,\n",
       "        3.86351058e+00,  5.22071078e+00,  4.27118157e+00,  3.49713750e+00,\n",
       "       -3.59412533e+00, -5.52429114e+00, -3.78878633e-01, -3.37991242e+00,\n",
       "        3.42013361e+00,  2.87945148e+00,  8.39844044e+00,  1.36301570e+00,\n",
       "        1.30050507e+00,  2.43783067e+00,  4.20331567e+00,  4.87122743e+00,\n",
       "        3.41786510e+00,  3.52505103e+00,  1.49047429e+00, -4.38246778e+00,\n",
       "        3.30179959e+00, -6.91839672e+00, -3.00027997e+00,  3.74693770e-01,\n",
       "        3.51566247e+00,  1.35246010e+00, -4.59439854e-01,  1.27608168e-01,\n",
       "       -2.46851404e+00, -3.65722615e+00, -1.17432723e+00,  1.23750810e-01,\n",
       "        4.76302832e+00, -2.48416777e+00,  3.11616896e+00,  4.11454790e+00,\n",
       "       -4.39467738e-01,  3.67320204e+00, -1.88394522e+00, -4.40528186e+00,\n",
       "        1.52417182e+00,  3.35867699e+00, -2.09138519e+00,  2.10247734e+00,\n",
       "       -3.91977686e-01, -3.67550438e+00,  5.47744869e-01, -1.61255548e+00,\n",
       "        4.18015474e+00,  5.52829413e+00, -7.66176486e+00,  1.28964081e+00,\n",
       "        2.00611480e+00,  1.22701351e+00,  2.17241324e+00,  7.60783037e-01,\n",
       "       -1.67484675e+00, -2.26977552e+00, -1.36168207e+00,  4.04557671e-01,\n",
       "        5.10747520e+00,  1.44927433e+00, -1.64971113e+00,  7.63311256e-01,\n",
       "       -7.06245307e+00, -2.07981309e+00, -2.61906662e+00,  1.67394105e+00,\n",
       "       -5.62183771e-01,  5.56096069e+00,  2.85696521e+00,  6.12273348e-01,\n",
       "        3.08367131e+00, -1.66183547e+00, -1.94049573e+00, -3.45037409e+00,\n",
       "        3.86726223e+00,  3.79559152e+00,  1.73138194e+00,  5.46512666e+00,\n",
       "       -3.53472429e+00,  1.27895466e-01,  1.14150052e+00, -3.86948126e+00,\n",
       "       -8.91136585e-01, -3.43640202e+00, -1.07972371e+00,  7.42186167e-01,\n",
       "        1.09040089e+00,  3.80623586e+00,  1.91004153e+00,  1.96038791e-01,\n",
       "       -5.63706399e+00,  2.36785262e-01,  8.96928169e-01,  5.98284131e-01,\n",
       "        5.18231715e-01,  1.43160093e+00,  4.26964050e+00,  4.24447750e+00,\n",
       "        3.39230076e+00,  1.05784831e+00, -5.85980104e+00,  5.47834416e-01,\n",
       "        6.86503385e-01,  3.31624520e+00, -1.41225718e+00, -4.75411156e-01,\n",
       "        2.10367867e+00,  2.74466159e+00,  2.01937799e+00, -3.20634003e+00,\n",
       "       -1.43347317e+00,  5.04835897e-01, -6.21214782e+00,  5.35289072e+00,\n",
       "        4.09761125e-01,  1.05111446e+00,  2.92186358e+00, -1.58209465e-02,\n",
       "        2.21521869e+00, -1.90493228e+00,  7.39243260e-01, -7.90149679e-02,\n",
       "        3.01859971e+00,  2.63655686e+00,  4.53035145e+00, -3.27674646e+00,\n",
       "        2.40477046e+00, -2.55890481e+00, -3.02227853e+00,  1.08092932e+00,\n",
       "        1.18580244e+00,  1.02138048e-02,  3.50413441e+00, -2.27485930e+00,\n",
       "        8.22057012e-01, -6.63885811e+00,  2.21380185e+00, -2.81199345e-01,\n",
       "        2.59704181e+00, -1.50238505e+00, -9.19036349e-01, -3.43604697e-01,\n",
       "        6.11763555e+00, -2.16895470e-01, -1.23176888e+00,  7.51032602e+00])"
      ]
     },
     "execution_count": 48,
     "metadata": {},
     "output_type": "execute_result"
    }
   ],
   "source": [
    "TEA = 1\n",
    "OTH = 2\n",
    "\n",
    "import numpy as np \n",
    "AccTyp = np.random.normal(1,3, 400)\n",
    "AccTyp"
   ]
  },
  {
   "cell_type": "code",
   "execution_count": 49,
   "metadata": {},
   "outputs": [
    {
     "data": {
      "image/png": "[encoded data removed]",
      "text/plain": [
       "<Figure size 432x288 with 1 Axes>"
      ]
     },
     "metadata": {},
     "output_type": "display_data"
    }
   ],
   "source": [
    "x = np.random.normal(1,3, 400)\n",
    "plt.hist(x)\n",
    "plt.ylabel('Homeless Adults')\n",
    "plt.xlabel('Accommodation Type')\n",
    "plt.title('Homelessness Report September 2018')\n",
    "plt.show()"
   ]
  },
  {
   "cell_type": "code",
   "execution_count": 50,
   "metadata": {},
   "outputs": [
    {
     "data": {
      "text/plain": [
       "array(['No', 'Yes', 'Yes', 'No', 'No', 'Yes', 'No', 'No', 'Yes', 'Yes',\n",
       "       'Yes', 'Yes', 'No', 'Yes', 'No', 'Yes', 'Yes', 'No', 'Yes', 'No',\n",
       "       'No', 'No', 'No', 'Yes', 'Yes', 'No', 'Yes', 'No', 'No', 'Yes',\n",
       "       'No', 'Yes', 'Yes', 'No', 'Yes', 'No', 'Yes', 'Yes', 'No', 'Yes',\n",
       "       'No', 'No', 'No', 'No', 'No', 'Yes', 'No', 'No', 'Yes', 'No', 'No',\n",
       "       'No', 'No', 'No', 'Yes', 'No', 'Yes', 'Yes', 'No', 'No', 'No',\n",
       "       'Yes', 'Yes', 'Yes', 'No', 'Yes', 'No', 'No', 'No', 'No', 'Yes',\n",
       "       'No', 'Yes', 'Yes', 'No', 'No', 'Yes', 'No', 'Yes', 'Yes', 'No',\n",
       "       'No', 'Yes', 'Yes', 'No', 'Yes', 'No', 'No', 'No', 'No', 'Yes',\n",
       "       'No', 'Yes', 'Yes', 'Yes', 'Yes', 'No', 'No', 'No', 'No', 'Yes',\n",
       "       'No', 'Yes', 'No', 'Yes', 'No', 'No', 'No', 'No', 'Yes', 'No',\n",
       "       'No', 'No', 'No', 'No', 'No', 'No', 'Yes', 'Yes', 'Yes', 'No',\n",
       "       'No', 'No', 'No', 'Yes', 'Yes', 'No', 'No', 'Yes', 'Yes', 'No',\n",
       "       'No', 'Yes', 'No', 'No', 'Yes', 'No', 'No', 'Yes', 'No', 'No',\n",
       "       'No', 'No', 'Yes', 'Yes', 'No', 'Yes', 'Yes', 'No', 'No', 'No',\n",
       "       'Yes', 'No', 'Yes', 'No', 'No', 'Yes', 'No', 'No', 'Yes', 'No',\n",
       "       'Yes', 'No', 'Yes', 'Yes', 'No', 'No', 'Yes', 'No', 'Yes', 'No',\n",
       "       'No', 'Yes', 'No', 'Yes', 'No', 'Yes', 'No', 'Yes', 'No', 'No',\n",
       "       'Yes', 'Yes', 'No', 'Yes', 'Yes', 'Yes', 'No', 'Yes', 'No', 'Yes',\n",
       "       'No', 'No', 'Yes', 'Yes', 'Yes', 'No', 'No', 'No', 'Yes', 'No',\n",
       "       'Yes', 'No', 'Yes', 'No', 'Yes', 'Yes', 'No', 'Yes', 'No', 'No',\n",
       "       'Yes', 'No', 'Yes', 'No', 'Yes', 'No', 'Yes', 'Yes', 'Yes', 'Yes',\n",
       "       'No', 'No', 'Yes', 'Yes', 'Yes', 'Yes', 'Yes', 'Yes', 'Yes', 'No',\n",
       "       'No', 'No', 'Yes', 'Yes', 'Yes', 'No', 'Yes', 'Yes', 'No', 'Yes',\n",
       "       'No', 'No', 'Yes', 'Yes', 'No', 'No', 'Yes', 'No', 'No', 'No',\n",
       "       'No', 'No', 'No', 'No', 'Yes', 'Yes', 'No', 'Yes', 'No', 'No',\n",
       "       'No', 'No', 'Yes', 'Yes', 'No', 'Yes', 'Yes', 'No', 'Yes', 'No',\n",
       "       'Yes', 'Yes', 'Yes', 'No', 'No', 'Yes', 'No', 'No', 'Yes', 'Yes',\n",
       "       'No', 'Yes', 'No', 'Yes', 'Yes', 'No', 'Yes', 'No', 'Yes', 'No',\n",
       "       'No', 'No', 'Yes', 'No', 'No', 'No', 'Yes', 'Yes', 'No', 'No',\n",
       "       'No', 'No', 'Yes', 'No', 'Yes', 'Yes', 'Yes', 'No', 'No', 'Yes',\n",
       "       'No', 'Yes', 'Yes', 'No', 'No', 'Yes', 'No', 'No', 'No', 'No',\n",
       "       'Yes', 'Yes', 'Yes', 'Yes', 'No', 'No', 'No', 'No', 'Yes', 'No',\n",
       "       'Yes', 'No', 'Yes', 'Yes', 'No', 'Yes', 'No', 'Yes', 'Yes', 'No',\n",
       "       'Yes', 'No', 'No', 'Yes', 'Yes', 'Yes', 'Yes', 'No', 'No', 'Yes',\n",
       "       'Yes', 'Yes', 'No', 'Yes', 'Yes', 'No', 'Yes', 'No', 'Yes', 'Yes',\n",
       "       'Yes', 'Yes', 'Yes', 'Yes', 'Yes', 'No', 'Yes', 'Yes', 'No', 'Yes',\n",
       "       'Yes', 'Yes', 'No', 'Yes', 'No', 'No', 'No', 'Yes', 'Yes', 'No',\n",
       "       'No', 'Yes', 'No', 'Yes', 'No', 'No', 'No', 'Yes', 'Yes', 'Yes',\n",
       "       'No', 'No', 'Yes', 'Yes', 'No', 'No', 'No', 'No', 'No'],\n",
       "      dtype='<U3')"
      ]
     },
     "execution_count": 50,
     "metadata": {},
     "output_type": "execute_result"
    }
   ],
   "source": [
    "import numpy as np\n",
    "SPF = np.random.choice([\"Yes\",\"No\"], size=400)\n",
    "SPF"
   ]
  },
  {
   "cell_type": "code",
   "execution_count": 51,
   "metadata": {},
   "outputs": [
    {
     "data": {
      "text/plain": [
       "400"
      ]
     },
     "execution_count": 51,
     "metadata": {},
     "output_type": "execute_result"
    }
   ],
   "source": [
    "len(SPF)"
   ]
  },
  {
   "cell_type": "code",
   "execution_count": null,
   "metadata": {},
   "outputs": [],
   "source": [
    "\n"
   ]
  },
  {
   "cell_type": "code",
   "execution_count": null,
   "metadata": {},
   "outputs": [],
   "source": []
  }
 ],
 "metadata": {
  "kernelspec": {
   "display_name": "Python 3",
   "language": "python",
   "name": "python3"
  },
  "language_info": {
   "codemirror_mode": {
    "name": "ipython",
    "version": 3
   },
   "file_extension": ".py",
   "mimetype": "text/x-python",
   "name": "python",
   "nbconvert_exporter": "python",
   "pygments_lexer": "ipython3",
   "version": "3.6.5"
  }
 },
 "nbformat": 4,
 "nbformat_minor": 2
}
