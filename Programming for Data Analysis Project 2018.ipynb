{
 "cells": [
  {
   "cell_type": "markdown",
   "metadata": {},
   "source": [
    "# Simulation of a real world phenomenon\n",
    "\n",
    "### Project outline and objectives\n",
    "\n",
    "•\tChoose a real-world phenomenon that can be measured and for which you could collect at least one-hundred data points across at least four different variables.\n",
    "\n",
    "•\tInvestigate the types of variables involved, their likely distributions, and their relationships with each other.\n",
    "\n",
    "•\tSynthesise/simulate a data set as closely matching their properties as possible.\n",
    "\n",
    "•\tDetail your research and implement the simulation in a Jupyter notebook – the data set itself can simply be displayed in an output cell within the notebook.\n",
    "\n",
    "## Phenomenon Chosen\n",
    "\n",
    "# 'Homelessness in Ireland' - The State of our nation\n",
    "\n",
    "### Squeezed out of private rental market into homelessness \n",
    "#### \"New Homelessness in Ireland\""
   ]
  },
  {
   "cell_type": "markdown",
   "metadata": {},
   "source": [
    "Homelessness Overview\n",
    "\n",
    "Is homelessness increasing or decreasing in Ireland? Unfortunately, homelessness is increasing year on year. Between December 2014 and May 2018  there was a net increase of 6,988 people recorded as homeless. This upward trend has existed for a number of years and the number of people becoming homeless on a daily average has increased.\n",
    "\n",
    "How many people exited homelessness in 2017? In a statement reacting to the publication of the January 2018 homeless figures, Minister for Housing Eoghan Murphy said over 4,000 adults had exited homelessness in Ireland in 2017.   This means that if 7,148 people were accessing emergency accommodation in December 2016 and 8,587 people were recorded as homeless in December 2017, the net increase in cases of homelessness in Ireland during 2017 would be 1,439. This net increase together with exits means at least an additional 5,439 new cases of homelessness were recorded in 2017. This figure can also be broken down into 15 people per day. \n",
    "\n",
    "Estimated number of rough sleepers in Dublin – spring 2018 : 110 people were recorded as sleeping rough in Dublin on the night of the official rough sleeper count. "
   ]
  },
  {
   "cell_type": "markdown",
   "metadata": {},
   "source": [
    "'Truly shocking': There are now 9,846 homeless people in Ireland\n",
    "Slight rise in homeless figures, Department stats show "
   ]
  },
  {
   "cell_type": "markdown",
   "metadata": {},
   "source": [
    "\n"
   ]
  },
  {
   "cell_type": "markdown",
   "metadata": {},
   "source": [
    "\n",
    "Why do people become homeless?\n",
    "\n",
    "The reasons for people becoming homeless are both complex and wide-ranging but there is a particular risk at present for families with tenancies in the private rented sector.\n",
    "\n",
    "According to Ending Homelessness – A Housing-Led Approach (pdf), research shows that the following are the main factors that lead to homelessness:\n",
    "\n",
    "    -Housing and financial crises\n",
    "    -Discharge from institutions\n",
    "    -Family breakdown, including domestic violence\n",
    "    -Substance abuse\n",
    "    -Mental health issues\n",
    "    -The transition from youth to adulthood for young people in care or who were homeless as young people\n",
    "\n",
    "Many people are homeless for relatively short periods, for reasons linked to issues such as loss of employment, eviction or relationship breakdown. Others who experience multiple forms of social exclusion may become homeless in the long term, especially if they have been homeless before they become adults.\n"
   ]
  },
  {
   "cell_type": "markdown",
   "metadata": {},
   "source": [
    "\n"
   ]
  },
  {
   "cell_type": "markdown",
   "metadata": {},
   "source": [
    "Statistics on homelessness are important in helping to analyse and understand the issue. However, it is important to note that these numbers cannot convey the personal trauma that homelessness can bring"
   ]
  },
  {
   "cell_type": "markdown",
   "metadata": {},
   "source": [
    "**There were 9,527 people homeless in the week of August 20th-26th 2018 across Ireland. This figure includes adults and children. The number of families becoming homeless has increased by 18% since August 2017. More than one in three people in emergency accommodation is a child.**"
   ]
  },
  {
   "cell_type": "markdown",
   "metadata": {},
   "source": [
    "\n",
    "Why do people become homeless?\n",
    "\n",
    "The reasons for people becoming homeless are both complex and wide-ranging but there is a particular risk at present for families with tenancies in the private rented sector.\n",
    "\n",
    "According to Ending Homelessness – A Housing-Led Approach (pdf), research shows that the following are the main factors that lead to homelessness:\n",
    "\n",
    "    -Housing and financial crises\n",
    "    -Discharge from institutions\n",
    "    -Family breakdown, including domestic violence\n",
    "    -Substance abuse\n",
    "    -Mental health issues\n",
    "    -The transition from youth to adulthood for young people in care or who were homeless as young people\n",
    "\n",
    "Many people are homeless for relatively short periods, for reasons linked to issues such as loss of employment, eviction or relationship breakdown. Others who experience multiple forms of social exclusion may become homeless in the long term, especially if they have been homeless before they become adults.\n"
   ]
  },
  {
   "cell_type": "markdown",
   "metadata": {},
   "source": [
    "### Department of Housing, Planning and Local Government\n",
    "### Homelessness Report September 2018\n",
    "#### Details of Households accessing local authority managed emergency accomodation during the week of 24-30 September 2018\n",
    "\n",
    "<img src = \"HRS18.png\" height=\"700\" width=\"558\" align=\"left\">"
   ]
  },
  {
   "cell_type": "markdown",
   "metadata": {},
   "source": [
    "### Homelessness by region during the week of 24-30 September 2018\n",
    "\n",
    "<img src = \"R18.png\" height=\"700\" width=\"558\">\n"
   ]
  },
  {
   "cell_type": "code",
   "execution_count": null,
   "metadata": {},
   "outputs": [],
   "source": []
  },
  {
   "cell_type": "markdown",
   "metadata": {},
   "source": [
    "### Investigation of the types of variables, their likely distributions, and their relationships \n",
    "\n",
    "**Variables of interest Chosen**\n",
    "\n"
   ]
  },
  {
   "cell_type": "markdown",
   "metadata": {},
   "source": [
    "- Region\n",
    "- Adults\n",
    "- Adult age group\n",
    "- Adult Gender\n",
    "- Children\n",
    "- Accomodation Type"
   ]
  },
  {
   "cell_type": "code",
   "execution_count": 14,
   "metadata": {},
   "outputs": [],
   "source": [
    "import pandas as pd\n",
    "import numpy as np\n",
    "import matplotlib.pyplot as plt"
   ]
  },
  {
   "cell_type": "code",
   "execution_count": 42,
   "metadata": {},
   "outputs": [
    {
     "data": {
      "text/plain": [
       "array([16, 14, 27, 43, 26, 21, 52, 22,  1,  5, 69, 66,  8, 11, 33, 33, 53,\n",
       "       34, 48,  7, 46, 67, 35, 64,  3, 41,  5,  4, 68, 28, 43, 50,  8, 69,\n",
       "        3, 24, 34, 20, 60, 64, 25, 49, 27, 52, 51,  1, 46, 42, 18, 38, 47,\n",
       "        2, 40, 69,  9, 17, 69, 56, 56, 67, 12, 13, 52, 33, 44,  1, 22, 49,\n",
       "       10, 45,  8, 29, 39, 63, 25, 66, 69, 48, 30, 28,  7, 10, 59, 43, 15,\n",
       "        2, 29, 18, 39,  8, 25, 13, 30, 57,  3, 46, 43, 38, 67, 65, 45, 15,\n",
       "       13, 27, 44, 14, 63, 36, 38, 66,  8, 12, 12, 61, 16, 11, 64, 39, 13,\n",
       "        4, 44, 13, 61, 59, 49,  0, 19, 33, 25, 29, 24, 54,  7, 41, 51,  0,\n",
       "       22, 26, 18, 43, 18, 64, 16, 51, 29, 45, 47,  0, 63, 67, 15, 66, 65,\n",
       "       69, 52, 40, 11, 44,  4, 69, 60, 64, 40, 46, 46,  0, 50, 54,  5, 34,\n",
       "       53, 47, 33, 46, 20, 31, 15, 58, 62, 24, 28, 57, 46, 37, 51, 50, 49,\n",
       "       30, 48, 29, 60, 63, 24, 41, 40, 64, 18, 23, 15,  9, 25, 54, 25, 67,\n",
       "       56,  5, 53, 22, 64, 14,  2, 62,  9, 19, 14, 14, 60, 15, 25, 37, 60,\n",
       "       17, 34, 59, 68, 67,  9, 46, 21, 44,  3, 42,  1, 26, 57, 39,  1, 26,\n",
       "       55, 37, 43, 23, 56, 47, 26, 40, 55, 22, 31,  9, 67, 41, 58, 54, 33,\n",
       "       10, 32, 16,  9, 30,  1, 18, 10, 15, 40, 59, 27,  6, 43, 62, 19,  0,\n",
       "       19, 45,  9, 17, 18, 14, 30, 56, 65, 60, 69, 34, 39, 31, 38, 52, 45,\n",
       "       45, 52, 29, 27, 54, 59, 56, 38, 55, 26, 12])"
      ]
     },
     "execution_count": 42,
     "metadata": {},
     "output_type": "execute_result"
    }
   ],
   "source": [
    "age = np.random.randint(0,70,300)\n",
    "age"
   ]
  },
  {
   "cell_type": "code",
   "execution_count": 46,
   "metadata": {},
   "outputs": [
    {
     "data": {
      "text/plain": [
       "300"
      ]
     },
     "execution_count": 46,
     "metadata": {},
     "output_type": "execute_result"
    }
   ],
   "source": [
    "len(age)"
   ]
  },
  {
   "cell_type": "code",
   "execution_count": 43,
   "metadata": {},
   "outputs": [
    {
     "data": {
      "text/plain": [
       "34.943333333333335"
      ]
     },
     "execution_count": 43,
     "metadata": {},
     "output_type": "execute_result"
    }
   ],
   "source": [
    "np.mean(age)"
   ]
  },
  {
   "cell_type": "code",
   "execution_count": 44,
   "metadata": {},
   "outputs": [
    {
     "data": {
      "text/plain": [
       "34.5"
      ]
     },
     "execution_count": 44,
     "metadata": {},
     "output_type": "execute_result"
    }
   ],
   "source": [
    "np.median(age)"
   ]
  },
  {
   "cell_type": "code",
   "execution_count": 25,
   "metadata": {},
   "outputs": [
    {
     "data": {
      "image/png": "[encoded data removed]",
      "text/plain": [
       "<Figure size 432x288 with 1 Axes>"
      ]
     },
     "metadata": {},
     "output_type": "display_data"
    }
   ],
   "source": [
    "x = np.random.randint(0,70,400)\n",
    "plt.hist(x)\n",
    "plt.ylabel('Homeless Adults')\n",
    "plt.xlabel('Age')\n",
    "plt.title('Homelessness Report September 2018')\n",
    "plt.show()"
   ]
  },
  {
   "cell_type": "code",
   "execution_count": 49,
   "metadata": {},
   "outputs": [
    {
     "data": {
      "text/plain": [
       "array([ 2,  4, 14, 11, 16,  6, 15,  8,  5,  0,  9,  1,  0, 12, 15, 12, 17,\n",
       "       17, 16,  8, 14, 10, 15,  9,  6,  6, 10, 16,  2, 17, 11,  1,  0, 11,\n",
       "       11,  8, 11,  8,  5, 13,  3, 10, 13,  5,  9, 10,  7,  9,  8,  8, 11,\n",
       "        0, 16, 13,  3,  7, 13, 15,  5, 15,  6,  9,  4,  5,  5, 14, 12,  5,\n",
       "       11,  2,  1, 16, 12, 17, 11,  0,  6,  5, 11, 12, 13,  7,  5,  1,  0,\n",
       "        7,  3,  0,  1,  0,  1,  1, 14,  1, 11, 12, 13, 13,  5, 17,  4, 16,\n",
       "       12,  1,  9,  4,  5,  6, 15,  1,  3,  8, 13,  6, 13,  9,  8,  2,  9,\n",
       "       14,  3, 12,  0,  1, 16,  5, 13, 11,  2, 10,  5,  3,  2,  8, 16, 10,\n",
       "        5,  6,  7,  8,  5,  6,  8,  8, 17,  6,  6, 11,  8, 15,  4,  7, 12,\n",
       "       15, 12,  3, 10,  1, 12,  8,  0,  8, 13, 17, 11,  0,  3, 17, 12, 10,\n",
       "        4,  3,  9,  7, 13,  5,  6,  7, 14,  1, 11, 16,  8,  1,  6,  2, 12,\n",
       "       17,  1,  5, 12, 14, 10,  0, 16, 17,  5, 15, 12, 11, 10,  2,  6,  3,\n",
       "       12,  1,  8,  8,  2, 15,  4,  6, 10, 11,  8, 12,  9,  6,  2,  4, 12,\n",
       "       14, 11, 13, 14, 12,  4,  9, 11, 11,  5,  8, 12, 14,  2,  9,  2,  6,\n",
       "        7, 14,  6,  3,  0,  6,  9, 14,  0, 10, 11,  9, 14,  7,  9,  2, 10,\n",
       "        1,  3,  7,  1, 17,  9, 12,  5,  9, 12, 13,  9,  8, 17, 17, 14,  8,\n",
       "        2, 14, 13,  6,  0,  1,  6,  2, 10,  4, 10,  3,  5, 17,  6, 17,  4,\n",
       "        2,  5, 14,  5,  5,  8, 16,  3,  5, 15,  8])"
      ]
     },
     "execution_count": 49,
     "metadata": {},
     "output_type": "execute_result"
    }
   ],
   "source": [
    "Depen= np.random.randint(0,18,300)\n",
    "Depen"
   ]
  },
  {
   "cell_type": "code",
   "execution_count": 50,
   "metadata": {},
   "outputs": [
    {
     "data": {
      "text/plain": [
       "300"
      ]
     },
     "execution_count": 50,
     "metadata": {},
     "output_type": "execute_result"
    }
   ],
   "source": [
    "len(Depen)"
   ]
  },
  {
   "cell_type": "code",
   "execution_count": 51,
   "metadata": {},
   "outputs": [
    {
     "data": {
      "text/plain": [
       "8.246666666666666"
      ]
     },
     "execution_count": 51,
     "metadata": {},
     "output_type": "execute_result"
    }
   ],
   "source": [
    "np.mean(Depen)\n"
   ]
  },
  {
   "cell_type": "code",
   "execution_count": 52,
   "metadata": {},
   "outputs": [
    {
     "data": {
      "text/plain": [
       "8.0"
      ]
     },
     "execution_count": 52,
     "metadata": {},
     "output_type": "execute_result"
    }
   ],
   "source": [
    "np.median(Depen)"
   ]
  },
  {
   "cell_type": "code",
   "execution_count": 4,
   "metadata": {},
   "outputs": [],
   "source": [
    "import matplotlib.pyplot as plt\n",
    "%matplotlib inline"
   ]
  },
  {
   "cell_type": "code",
   "execution_count": 41,
   "metadata": {},
   "outputs": [
    {
     "data": {
      "image/png": "[encoded data removed]",
      "text/plain": [
       "<Figure size 432x288 with 1 Axes>"
      ]
     },
     "metadata": {},
     "output_type": "display_data"
    }
   ],
   "source": [
    "plt.hist([GP1,GP2,GP3,GP4], label=['Group1','Group2','Group3','Group4'])\n",
    "plt.legend()\n",
    "plt.ylabel('Homeless Adults')\n",
    "plt.xlabel('Age Groups')\n",
    "plt.title('Homelessness Report September 2018')\n",
    "\n",
    "plt.show()\n"
   ]
  },
  {
   "cell_type": "code",
   "execution_count": 33,
   "metadata": {},
   "outputs": [
    {
     "data": {
      "text/plain": [
       "array([1, 1, 2, 1, 1, 1, 2, 1, 2, 1, 1, 1, 1, 2, 1, 2, 1, 1, 1, 1, 1, 2,\n",
       "       2, 2, 1, 1, 1, 1, 1, 1, 2, 1, 2, 1, 2, 2, 2, 2, 1, 1, 2, 1, 2, 2,\n",
       "       1, 2, 1, 2, 2, 1, 1, 1, 2, 2, 2, 2, 1, 2, 2, 1, 1, 2, 2, 2, 2, 1,\n",
       "       2, 1, 1, 1, 2, 1, 1, 2, 1, 1, 2, 2, 2, 1, 2, 1, 2, 2, 1, 2, 2, 2,\n",
       "       2, 1, 2, 1, 1, 1, 1, 2, 1, 1, 2, 2, 2, 2, 2, 2, 1, 2, 2, 2, 2, 2,\n",
       "       1, 1, 1, 1, 1, 1, 1, 2, 2, 1, 1, 1, 1, 1, 2, 1, 1, 2, 1, 2, 2, 1,\n",
       "       2, 2, 2, 1, 1, 2, 2, 1, 2, 1, 1, 2, 1, 1, 2, 2, 2, 1, 1, 2, 2, 2,\n",
       "       2, 2, 1, 1, 1, 1, 2, 1, 2, 2, 1, 1, 1, 2, 1, 1, 2, 2, 2, 2, 2, 1,\n",
       "       2, 2, 2, 2, 1, 1, 2, 2, 1, 2, 2, 2, 2, 2, 1, 2, 2, 2, 1, 1, 2, 1,\n",
       "       1, 1, 2, 2, 1, 1, 2, 2, 2, 1, 1, 1, 2, 1, 1, 2, 1, 2, 2, 1, 2, 1,\n",
       "       2, 2, 2, 1, 2, 2, 2, 1, 1, 2, 1, 2, 2, 1, 1, 1, 1, 2, 1, 2, 1, 2,\n",
       "       1, 2, 1, 2, 2, 1, 1, 1, 1, 2, 1, 2, 1, 1, 2, 1, 2, 2, 2, 1, 2, 1,\n",
       "       2, 1, 2, 2, 1, 1, 1, 2, 2, 2, 2, 2, 1, 1, 1, 2, 2, 2, 2, 2, 2, 1,\n",
       "       2, 1, 2, 2, 1, 1, 1, 1, 1, 2, 1, 2, 2, 1, 1, 1, 2, 1, 1, 2, 2, 2,\n",
       "       2, 1, 2, 2, 1, 2, 2, 2, 2, 1, 2, 1, 1, 2, 1, 1, 2, 2, 2, 1, 1, 2,\n",
       "       2, 2, 2, 2, 1, 1, 2, 2, 2, 1, 1, 2, 1, 2, 1, 1, 2, 1, 2, 1, 1, 1,\n",
       "       2, 1, 2, 1, 2, 1, 2, 1, 2, 1, 2, 1, 1, 2, 1, 1, 1, 2, 1, 1, 1, 1,\n",
       "       2, 2, 2, 2, 2, 2, 1, 1, 1, 1, 2, 2, 2, 2, 1, 2, 1, 1, 1, 1, 1, 2,\n",
       "       2, 1, 2, 2])"
      ]
     },
     "execution_count": 33,
     "metadata": {},
     "output_type": "execute_result"
    }
   ],
   "source": [
    "Male = 1\n",
    "Female = 2\n",
    "\n",
    "Gender = np.random.randint(1,3, 400)# 400 Homeless Adults\n",
    "Gender"
   ]
  },
  {
   "cell_type": "code",
   "execution_count": 34,
   "metadata": {},
   "outputs": [
    {
     "data": {
      "text/plain": [
       "400"
      ]
     },
     "execution_count": 34,
     "metadata": {},
     "output_type": "execute_result"
    }
   ],
   "source": [
    "len(Gender)"
   ]
  },
  {
   "cell_type": "code",
   "execution_count": 35,
   "metadata": {},
   "outputs": [
    {
     "data": {
      "image/png": "[encoded data removed]",
      "text/plain": [
       "<Figure size 432x288 with 1 Axes>"
      ]
     },
     "metadata": {},
     "output_type": "display_data"
    }
   ],
   "source": [
    "x = np.random.randint(1,3, 400)\n",
    "plt.hist(x)\n",
    "plt.ylabel('Homeless Adults')\n",
    "plt.xlabel('Gender,  Male = 1 , Female = 2')\n",
    "plt.title('Homelessness Report September 2018')\n",
    "plt.show()"
   ]
  },
  {
   "cell_type": "code",
   "execution_count": 63,
   "metadata": {},
   "outputs": [
    {
     "data": {
      "text/plain": [
       "array(['Yes', 'Yes', 'Yes', 'Yes', 'Yes', 'No', 'No', 'Yes', 'No', 'No',\n",
       "       'No', 'Yes', 'No', 'Yes', 'Yes', 'No', 'No', 'No', 'Yes', 'No',\n",
       "       'Yes', 'No', 'Yes', 'Yes', 'Yes', 'No', 'Yes', 'No', 'No', 'No',\n",
       "       'Yes', 'Yes', 'No', 'Yes', 'No', 'Yes', 'No', 'Yes', 'No', 'No',\n",
       "       'Yes', 'Yes', 'No', 'No', 'No', 'Yes', 'Yes', 'No', 'Yes', 'No',\n",
       "       'No', 'No', 'No', 'Yes', 'No', 'Yes', 'No', 'Yes', 'Yes', 'Yes',\n",
       "       'Yes', 'Yes', 'Yes', 'Yes', 'No', 'Yes', 'Yes', 'Yes', 'No', 'No',\n",
       "       'Yes', 'Yes', 'No', 'No', 'Yes', 'No', 'No', 'No', 'Yes', 'No',\n",
       "       'Yes', 'No', 'No', 'No', 'Yes', 'Yes', 'No', 'No', 'Yes', 'No',\n",
       "       'No', 'No', 'No', 'No', 'No', 'No', 'Yes', 'Yes', 'No', 'No', 'No',\n",
       "       'No', 'No', 'Yes', 'No', 'Yes', 'Yes', 'Yes', 'No', 'Yes', 'Yes',\n",
       "       'No', 'Yes', 'No', 'Yes', 'Yes', 'No', 'Yes', 'No', 'No', 'Yes',\n",
       "       'Yes', 'Yes', 'No', 'No', 'Yes', 'No', 'Yes', 'No', 'Yes', 'Yes',\n",
       "       'No', 'Yes', 'No', 'No', 'No', 'No', 'Yes', 'Yes', 'No', 'Yes',\n",
       "       'No', 'Yes', 'No', 'No', 'Yes', 'Yes', 'No', 'Yes', 'No', 'Yes',\n",
       "       'Yes', 'No', 'Yes', 'Yes', 'Yes', 'Yes', 'No', 'Yes', 'Yes', 'Yes',\n",
       "       'No', 'Yes', 'Yes', 'No', 'Yes', 'No', 'No', 'Yes', 'Yes', 'Yes',\n",
       "       'No', 'No', 'Yes', 'No', 'No', 'No', 'No', 'No', 'Yes', 'Yes',\n",
       "       'Yes', 'Yes', 'No', 'Yes', 'No', 'No', 'No', 'No', 'No', 'No',\n",
       "       'Yes', 'Yes', 'Yes', 'No', 'Yes', 'Yes', 'Yes', 'Yes', 'No', 'No',\n",
       "       'Yes', 'No', 'No', 'No', 'Yes', 'No', 'Yes', 'No', 'No', 'Yes',\n",
       "       'Yes', 'No', 'No', 'No', 'Yes', 'No', 'No', 'Yes', 'No', 'No',\n",
       "       'No', 'No', 'No', 'Yes', 'Yes', 'No', 'Yes', 'No', 'No', 'Yes',\n",
       "       'Yes', 'No', 'Yes', 'No', 'Yes', 'No', 'Yes', 'No', 'Yes', 'No',\n",
       "       'Yes', 'No', 'Yes', 'Yes', 'Yes', 'No', 'No', 'No', 'No', 'Yes',\n",
       "       'Yes', 'Yes', 'No', 'Yes', 'Yes', 'Yes', 'No', 'No', 'Yes', 'Yes',\n",
       "       'No', 'No', 'No', 'Yes', 'No', 'Yes', 'Yes', 'Yes', 'Yes', 'Yes',\n",
       "       'No', 'Yes', 'Yes', 'No', 'No', 'Yes', 'No', 'Yes', 'Yes', 'No',\n",
       "       'Yes', 'Yes', 'No', 'No', 'No', 'No', 'Yes', 'Yes', 'Yes', 'Yes',\n",
       "       'Yes', 'Yes', 'No', 'No', 'Yes', 'No', 'No', 'No', 'No', 'Yes',\n",
       "       'Yes', 'No', 'Yes', 'Yes', 'No', 'Yes', 'Yes', 'Yes', 'Yes', 'No',\n",
       "       'No', 'Yes', 'Yes', 'No', 'Yes', 'Yes', 'Yes', 'No', 'Yes', 'No',\n",
       "       'Yes', 'Yes', 'No', 'Yes', 'Yes', 'Yes', 'Yes', 'Yes', 'Yes',\n",
       "       'Yes', 'Yes', 'No', 'No', 'No', 'Yes', 'Yes', 'Yes', 'No', 'Yes',\n",
       "       'No', 'Yes', 'Yes', 'Yes', 'No', 'No', 'Yes', 'Yes', 'Yes', 'No',\n",
       "       'No', 'No', 'Yes', 'No', 'Yes', 'No', 'No', 'Yes', 'No', 'No',\n",
       "       'Yes', 'Yes', 'Yes', 'No', 'No', 'No', 'No', 'No', 'Yes', 'No',\n",
       "       'No', 'No', 'No', 'Yes', 'No', 'Yes', 'Yes', 'No', 'No', 'Yes',\n",
       "       'Yes', 'No', 'Yes', 'Yes', 'No', 'No', 'Yes', 'No', 'Yes', 'No',\n",
       "       'No', 'No', 'Yes', 'No', 'Yes', 'Yes', 'No', 'Yes', 'No', 'Yes'],\n",
       "      dtype='<U3')"
      ]
     },
     "execution_count": 63,
     "metadata": {},
     "output_type": "execute_result"
    }
   ],
   "source": [
    "import numpy as np\n",
    "SPF = np.random.choice([\"Yes\",\"No\"], size=400)\n",
    "SPF"
   ]
  },
  {
   "cell_type": "code",
   "execution_count": 55,
   "metadata": {},
   "outputs": [
    {
     "data": {
      "text/plain": [
       "300"
      ]
     },
     "execution_count": 55,
     "metadata": {},
     "output_type": "execute_result"
    }
   ],
   "source": [
    "len(SPF)"
   ]
  },
  {
   "cell_type": "code",
   "execution_count": 64,
   "metadata": {},
   "outputs": [
    {
     "data": {
      "image/png": "[encoded data removed]",
      "text/plain": [
       "<Figure size 432x288 with 1 Axes>"
      ]
     },
     "metadata": {},
     "output_type": "display_data"
    }
   ],
   "source": [
    "\n",
    "plt.hist(SPF)\n",
    "plt.ylabel('Homeless Adults')\n",
    "plt.xlabel('Gender,  Male = 1 , Female = 2')\n",
    "plt.title('Homelessness Report September 2018')\n",
    "plt.show()"
   ]
  },
  {
   "cell_type": "code",
   "execution_count": null,
   "metadata": {},
   "outputs": [],
   "source": []
  }
 ],
 "metadata": {
  "kernelspec": {
   "display_name": "Python 3",
   "language": "python",
   "name": "python3"
  },
  "language_info": {
   "codemirror_mode": {
    "name": "ipython",
    "version": 3
   },
   "file_extension": ".py",
   "mimetype": "text/x-python",
   "name": "python",
   "nbconvert_exporter": "python",
   "pygments_lexer": "ipython3",
   "version": "3.6.5"
  }
 },
 "nbformat": 4,
 "nbformat_minor": 2
}
