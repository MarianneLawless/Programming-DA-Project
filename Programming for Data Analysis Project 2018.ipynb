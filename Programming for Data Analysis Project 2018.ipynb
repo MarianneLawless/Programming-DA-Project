{
 "cells": [
  {
   "cell_type": "markdown",
   "metadata": {},
   "source": [
    "# Simulation of a real world phenomenon\n",
    "\n",
    "### Project outline and objectives\n",
    "\n",
    "•\tChoose a real-world phenomenon that can be measured and for which you could collect at least one-hundred data points across at least four different variables.\n",
    "\n",
    "•\tInvestigate the types of variables involved, their likely distributions, and their relationships with each other.\n",
    "\n",
    "•\tSynthesise/simulate a data set as closely matching their properties as possible.\n",
    "\n",
    "•\tDetail your research and implement the simulation in a Jupyter notebook – the data set itself can simply be displayed in an output cell within the notebook.\n",
    "\n",
    "## Phenomenon Chosen\n",
    "\n",
    "# 'Homelessness in Ireland' - The State of our nation\n",
    "\n",
    "### Squeezed out of private rental market into homelessness \n",
    "#### \"New Homelessness in Ireland\""
   ]
  },
  {
   "cell_type": "markdown",
   "metadata": {},
   "source": [
    "Homelessness Overview\n",
    "\n",
    "Is homelessness increasing or decreasing in Ireland? Unfortunately, homelessness is increasing year on year. Between December 2014 and May 2018  there was a net increase of 6,988 people recorded as homeless. This upward trend has existed for a number of years and the number of people becoming homeless on a daily average has increased.\n",
    "\n",
    "How many people exited homelessness in 2017? In a statement reacting to the publication of the January 2018 homeless figures, Minister for Housing Eoghan Murphy said over 4,000 adults had exited homelessness in Ireland in 2017.   This means that if 7,148 people were accessing emergency accommodation in December 2016 and 8,587 people were recorded as homeless in December 2017, the net increase in cases of homelessness in Ireland during 2017 would be 1,439. This net increase together with exits means at least an additional 5,439 new cases of homelessness were recorded in 2017. This figure can also be broken down into 15 people per day. \n",
    "\n",
    "Estimated number of rough sleepers in Dublin – spring 2018 : 110 people were recorded as sleeping rough in Dublin on the night of the official rough sleeper count. "
   ]
  },
  {
   "cell_type": "markdown",
   "metadata": {},
   "source": [
    "'Truly shocking': There are now 9,846 homeless people in Ireland\n",
    "Slight rise in homeless figures, Department stats show "
   ]
  },
  {
   "cell_type": "markdown",
   "metadata": {},
   "source": [
    "\n"
   ]
  },
  {
   "cell_type": "markdown",
   "metadata": {},
   "source": [
    "\n",
    "Why do people become homeless?\n",
    "\n",
    "The reasons for people becoming homeless are both complex and wide-ranging but there is a particular risk at present for families with tenancies in the private rented sector.\n",
    "\n",
    "According to Ending Homelessness – A Housing-Led Approach (pdf), research shows that the following are the main factors that lead to homelessness:\n",
    "\n",
    "    -Housing and financial crises\n",
    "    -Discharge from institutions\n",
    "    -Family breakdown, including domestic violence\n",
    "    -Substance abuse\n",
    "    -Mental health issues\n",
    "    -The transition from youth to adulthood for young people in care or who were homeless as young people\n",
    "\n",
    "Many people are homeless for relatively short periods, for reasons linked to issues such as loss of employment, eviction or relationship breakdown. Others who experience multiple forms of social exclusion may become homeless in the long term, especially if they have been homeless before they become adults.\n"
   ]
  },
  {
   "cell_type": "markdown",
   "metadata": {},
   "source": [
    "\n"
   ]
  },
  {
   "cell_type": "markdown",
   "metadata": {},
   "source": [
    "Statistics on homelessness are important in helping to analyse and understand the issue. However, it is important to note that these numbers cannot convey the personal trauma that homelessness can bring"
   ]
  },
  {
   "cell_type": "markdown",
   "metadata": {},
   "source": [
    "**There were 9,527 people homeless in the week of August 20th-26th 2018 across Ireland. This figure includes adults and children. The number of families becoming homeless has increased by 18% since August 2017. More than one in three people in emergency accommodation is a child.**"
   ]
  },
  {
   "cell_type": "markdown",
   "metadata": {},
   "source": [
    "\n",
    "Why do people become homeless?\n",
    "\n",
    "The reasons for people becoming homeless are both complex and wide-ranging but there is a particular risk at present for families with tenancies in the private rented sector.\n",
    "\n",
    "According to Ending Homelessness – A Housing-Led Approach (pdf), research shows that the following are the main factors that lead to homelessness:\n",
    "\n",
    "    -Housing and financial crises\n",
    "    -Discharge from institutions\n",
    "    -Family breakdown, including domestic violence\n",
    "    -Substance abuse\n",
    "    -Mental health issues\n",
    "    -The transition from youth to adulthood for young people in care or who were homeless as young people\n",
    "\n",
    "Many people are homeless for relatively short periods, for reasons linked to issues such as loss of employment, eviction or relationship breakdown. Others who experience multiple forms of social exclusion may become homeless in the long term, especially if they have been homeless before they become adults.\n"
   ]
  },
  {
   "cell_type": "markdown",
   "metadata": {},
   "source": [
    "## Department of Housing, Planning and Local Government\n",
    "#### Homelessness Report September 2018\n",
    "##### Details of Households accessing local authority managed emergency accomodation during the week of 24-30 September 2018\n",
    "\n"
   ]
  },
  {
   "cell_type": "markdown",
   "metadata": {},
   "source": [
    " <img src =\"HRS18.png\" width=\"800\"/>"
   ]
  },
  {
   "cell_type": "markdown",
   "metadata": {},
   "source": [
    "### Homelessness by region during the week of 24-30 September 2018\n",
    "\n",
    "<img src = \"R18.png\" width=\"800\"/>\n"
   ]
  },
  {
   "cell_type": "markdown",
   "metadata": {},
   "source": [
    "### Families homelessness during the week of 24-30 September 2018\n",
    "\n",
    "<img src = \"P18.png\" width=\"800\"/>"
   ]
  },
  {
   "cell_type": "markdown",
   "metadata": {},
   "source": [
    "### Investigation of the types of variables, their likely distributions, and their relationships \n",
    "\n",
    "**Variables of interest Chosen**\n",
    "\n"
   ]
  },
  {
   "cell_type": "markdown",
   "metadata": {},
   "source": [
    "- Region\n",
    "- Adults\n",
    "- Adult age group\n",
    "- Adult Gender\n",
    "- Children\n",
    "- Accomodation Type"
   ]
  },
  {
   "cell_type": "code",
   "execution_count": 26,
   "metadata": {},
   "outputs": [],
   "source": [
    "import pandas as pd\n",
    "import numpy as np\n",
    "import matplotlib.pyplot as plt"
   ]
  },
  {
   "cell_type": "code",
   "execution_count": 28,
   "metadata": {},
   "outputs": [
    {
     "data": {
      "text/plain": [
       "array([71, 73, 18, 76, 45, 56, 60, 50, 55, 38, 58, 19, 75, 60, 66, 32, 47,\n",
       "       66, 62, 18, 29, 59, 25, 62, 78, 25, 34, 43, 21, 58, 85, 28, 76, 38,\n",
       "       50, 85, 33, 74, 53, 57, 40, 47, 29, 29, 86, 34, 55, 44, 63, 84, 46,\n",
       "       18, 53, 52, 77, 70, 23, 74, 83, 57, 57, 40, 30, 78, 59, 43, 81, 42,\n",
       "       69, 64, 20, 46, 66, 60, 85, 64, 38, 40, 41, 73, 39, 22, 49, 55, 87,\n",
       "       89, 51, 78, 26, 83, 76, 46, 70, 60, 56, 61, 88, 42, 80, 62, 77, 36,\n",
       "       61, 21, 70, 85, 24, 87, 46, 47, 57, 26, 77, 30, 50, 42, 45, 79, 66,\n",
       "       33, 84, 54, 18, 88, 80, 74, 82, 85, 81, 40, 80, 60, 80, 64, 69, 88,\n",
       "       50, 78, 24, 25, 32, 32, 31, 21, 19, 44, 82, 78, 47, 60, 38, 71, 36,\n",
       "       65, 70, 69, 30, 85, 57, 80, 88, 25, 20, 73, 50, 78, 18, 83, 81, 28,\n",
       "       77, 36, 58, 70, 21, 58, 81, 58, 60, 74, 33, 67, 41, 45, 83, 55, 30,\n",
       "       29, 76, 84, 72, 39, 31, 77, 25, 53, 45, 60, 55, 62, 27, 30, 61, 65,\n",
       "       64, 79, 66, 53, 54, 78, 85, 28, 22, 56, 87, 63, 78, 62, 19, 51, 63,\n",
       "       70, 29, 25, 65, 24, 63, 80, 64, 65, 74, 29, 53, 22, 40, 78, 81, 68,\n",
       "       81, 63, 33, 21, 31, 28, 22, 85, 59, 58, 31, 25, 67, 74, 82, 87, 33,\n",
       "       22, 46, 53, 77, 85, 22, 63, 22, 73, 60, 45, 33, 58, 57, 33, 42, 51,\n",
       "       55, 74, 67, 38, 20, 62, 46, 63, 38, 63, 81, 56, 60, 73, 36, 86, 42,\n",
       "       88, 88, 48, 61, 55, 30, 62, 77, 63, 49, 74, 29, 63, 73, 60, 56, 24,\n",
       "       59, 55, 46, 40, 32, 50, 78, 74, 81, 29, 85, 54, 23, 56, 32, 69, 45,\n",
       "       38, 54, 51, 50, 29, 34, 32, 52, 40, 64, 60, 57, 46, 79, 33, 79, 56,\n",
       "       28, 59, 22, 87, 56, 86, 60, 71, 52, 22, 51, 65, 62, 68, 35, 39, 40,\n",
       "       46, 50, 45, 40, 30, 57, 78, 52, 23, 75, 30, 74, 49, 87, 50, 26, 52,\n",
       "       77, 35, 84, 75, 43, 35, 75, 37, 58, 63, 42, 24, 89, 43, 60, 84, 45,\n",
       "       21, 28, 42, 33, 24, 55, 47, 78, 42])"
      ]
     },
     "execution_count": 28,
     "metadata": {},
     "output_type": "execute_result"
    }
   ],
   "source": [
    "age = np.random.randint(18,90,400)\n",
    "age"
   ]
  },
  {
   "cell_type": "markdown",
   "metadata": {},
   "source": [
    "- Sample Standard Deviation, s\t20.594005381278\n",
    "- Variance (Sample Standard), s2\t424.11305764411\n",
    "- Population Standard Deviation, σ\t20.568246765342\n",
    "- Variance (Population Standard), σ2\t423.052775\n",
    "- Total Numbers, N\t400\n",
    "- Sum:\t20466\n",
    "- Mean (Average):\t51.165\n",
    "- Standard Error of the Mean (SEx̄):\t1.0297002690639"
   ]
  },
  {
   "cell_type": "code",
   "execution_count": 29,
   "metadata": {},
   "outputs": [
    {
     "data": {
      "text/plain": [
       "400"
      ]
     },
     "execution_count": 29,
     "metadata": {},
     "output_type": "execute_result"
    }
   ],
   "source": [
    "len(age)"
   ]
  },
  {
   "cell_type": "code",
   "execution_count": 30,
   "metadata": {},
   "outputs": [
    {
     "data": {
      "text/plain": [
       "54.295"
      ]
     },
     "execution_count": 30,
     "metadata": {},
     "output_type": "execute_result"
    }
   ],
   "source": [
    "np.mean(age)"
   ]
  },
  {
   "cell_type": "code",
   "execution_count": 31,
   "metadata": {},
   "outputs": [
    {
     "data": {
      "text/plain": [
       "56.0"
      ]
     },
     "execution_count": 31,
     "metadata": {},
     "output_type": "execute_result"
    }
   ],
   "source": [
    "np.median(age)"
   ]
  },
  {
   "cell_type": "code",
   "execution_count": 32,
   "metadata": {},
   "outputs": [
    {
     "data": {
      "image/png": "[encoded data removed]",
      "text/plain": [
       "<Figure size 432x288 with 1 Axes>"
      ]
     },
     "metadata": {},
     "output_type": "display_data"
    }
   ],
   "source": [
    "x = np.random.randint(18,90,400)\n",
    "plt.hist(x)\n",
    "plt.ylabel('Homeless Adults')\n",
    "plt.xlabel('Age')\n",
    "plt.title('Homelessness Report September 2018')\n",
    "plt.show()"
   ]
  },
  {
   "cell_type": "code",
   "execution_count": 33,
   "metadata": {},
   "outputs": [
    {
     "data": {
      "text/plain": [
       "array([ 3,  5,  5, 11, 14, 11, 15, 13, 11,  1,  4,  9,  1, 12, 17,  8,  4,\n",
       "        9, 11,  0,  9, 11, 11,  0,  4,  8,  1, 11,  4,  6,  3, 16,  6, 11,\n",
       "        0,  2,  9,  4,  2, 11,  5, 12, 16, 12,  0,  8, 12,  0, 16,  0, 14,\n",
       "       11,  5,  7, 12, 14, 10, 17,  9, 11, 13, 14, 16,  9,  9,  2,  0, 16,\n",
       "       16, 10,  4, 10,  9,  3,  0,  0,  5,  8,  3, 11,  4,  4, 16, 11, 16,\n",
       "       10,  2,  6, 13, 16,  1, 14,  6,  4, 13, 17, 14, 14,  2,  7,  1,  8,\n",
       "        6, 12,  2,  3,  8, 13, 14, 16,  9,  5, 11,  3, 15, 10, 15, 16,  3,\n",
       "       11,  7,  4, 13,  4, 10, 14, 11, 13,  0,  6,  6,  8, 12, 12, 13, 10,\n",
       "        6,  0, 12, 17,  8, 17, 16,  1, 10, 10,  0,  4,  4, 12,  3, 15,  8,\n",
       "        2,  8,  3,  7, 11, 16, 14,  4, 15,  9,  0, 14,  9, 13, 12,  5,  1,\n",
       "       16, 14,  6, 16, 14,  3, 11, 17,  6,  5, 17, 16, 10,  6,  8, 11,  3,\n",
       "        7, 14,  2, 11,  1, 15,  4,  6,  5,  7,  1,  5, 11,  4, 10, 13,  9,\n",
       "       15,  3,  8, 10,  8, 12,  5, 13,  1,  2, 11, 10,  4,  5,  6,  2,  9,\n",
       "        6,  1, 12, 13, 16,  2,  7, 15,  5, 17,  2,  3,  2,  6, 10, 10,  2,\n",
       "        0,  0, 11,  4,  6,  8,  9,  2, 12, 14,  3,  3, 13,  3,  6,  4,  9,\n",
       "        0, 11,  1, 17, 12,  8,  6,  6, 12,  5,  0,  0, 14,  0, 13, 13,  3,\n",
       "       11,  7, 15, 14,  6,  8, 17,  6, 11,  1, 17,  9,  6, 17,  7, 10,  5,\n",
       "        0,  2, 12,  5, 13,  5, 16, 13, 13,  5,  3,  1, 15,  4,  7, 11,  3,\n",
       "       13, 15,  5,  9,  0, 11, 12, 14, 14,  6,  5,  5, 14, 12, 15,  6, 16,\n",
       "        2, 10, 12,  3, 10,  3, 17,  7,  1, 16, 15,  3,  7,  9, 14, 11, 14,\n",
       "        4, 15,  0,  6, 15,  4,  4, 11, 17, 17,  8, 14, 17, 15, 16,  3,  4,\n",
       "        1,  2,  9, 15,  6,  2,  0, 14,  0, 11, 10,  3,  7,  9, 17, 16, 17,\n",
       "        8,  2, 11, 12,  8, 17,  8,  4, 11, 12,  3,  7, 11, 11,  7, 17,  4,\n",
       "        5,  1, 13, 16, 17,  1,  9, 11, 10])"
      ]
     },
     "execution_count": 33,
     "metadata": {},
     "output_type": "execute_result"
    }
   ],
   "source": [
    "import numpy as np\n",
    "Depen= np.random.randint(0,18,400)\n",
    "Depen"
   ]
  },
  {
   "cell_type": "markdown",
   "metadata": {},
   "source": [
    "- Sample Standard Deviation, s\t5.0255387870606\n",
    "- Variance (Sample Standard), s2\t25.256040100251\n",
    "- Population Standard Deviation, σ\t5.0192529324592\n",
    "- Variance (Population Standard), σ2\t25.1929\n",
    "- Total Numbers, N\t400\n",
    "- Sum:\t3556\n",
    "- Mean (Average):\t8.89\n",
    "- Standard Error of the Mean (SEx̄):\t0.25127693935303"
   ]
  },
  {
   "cell_type": "code",
   "execution_count": 34,
   "metadata": {},
   "outputs": [
    {
     "data": {
      "text/plain": [
       "400"
      ]
     },
     "execution_count": 34,
     "metadata": {},
     "output_type": "execute_result"
    }
   ],
   "source": [
    "len(Depen)"
   ]
  },
  {
   "cell_type": "code",
   "execution_count": 35,
   "metadata": {},
   "outputs": [
    {
     "data": {
      "text/plain": [
       "8.4825"
      ]
     },
     "execution_count": 35,
     "metadata": {},
     "output_type": "execute_result"
    }
   ],
   "source": [
    "np.mean(Depen)\n"
   ]
  },
  {
   "cell_type": "code",
   "execution_count": 36,
   "metadata": {},
   "outputs": [
    {
     "data": {
      "text/plain": [
       "9.0"
      ]
     },
     "execution_count": 36,
     "metadata": {},
     "output_type": "execute_result"
    }
   ],
   "source": [
    "np.median(Depen)"
   ]
  },
  {
   "cell_type": "code",
   "execution_count": 37,
   "metadata": {},
   "outputs": [
    {
     "data": {
      "text/plain": [
       "5.135629829923492"
      ]
     },
     "execution_count": 37,
     "metadata": {},
     "output_type": "execute_result"
    }
   ],
   "source": [
    "np.std(Depen)"
   ]
  },
  {
   "cell_type": "code",
   "execution_count": 38,
   "metadata": {},
   "outputs": [
    {
     "data": {
      "image/png": "[encoded data removed]",
      "text/plain": [
       "<Figure size 432x288 with 1 Axes>"
      ]
     },
     "metadata": {},
     "output_type": "display_data"
    }
   ],
   "source": [
    "x = np.random.randint(0,18,200)\n",
    "plt.hist(x)\n",
    "plt.ylabel('Homeless Dependents')\n",
    "plt.xlabel('Age')\n",
    "plt.title('Homelessness Report September 2018')\n",
    "plt.show()"
   ]
  },
  {
   "cell_type": "code",
   "execution_count": 39,
   "metadata": {},
   "outputs": [],
   "source": [
    "import matplotlib.pyplot as plt\n",
    "%matplotlib inline"
   ]
  },
  {
   "cell_type": "code",
   "execution_count": 40,
   "metadata": {},
   "outputs": [
    {
     "data": {
      "text/plain": [
       "array([22., 20., 23., 22., 21., 24., 20., 20., 22., 23., 23., 20., 19.,\n",
       "       24., 20., 20., 18., 19., 21., 23., 18., 21., 18., 24., 19., 19.,\n",
       "       23., 23., 21., 19., 21., 20., 21., 19., 22., 21., 23., 24., 23.,\n",
       "       20., 20., 23., 24., 21., 21., 19., 24., 23., 22., 22., 19., 21.,\n",
       "       18., 19., 20., 23., 22., 19., 19., 19., 22., 21., 23., 22., 18.,\n",
       "       20., 21., 20., 22., 19., 23., 22., 20., 23., 20., 21., 22., 20.,\n",
       "       22., 24., 23., 20., 24., 22., 20., 20., 24., 23., 19., 19., 18.,\n",
       "       23., 23., 22., 20., 23., 19., 23., 23., 21., 36., 33., 29., 34.,\n",
       "       31., 35., 43., 25., 35., 39., 30., 32., 26., 43., 30., 36., 37.,\n",
       "       25., 43., 27., 37., 29., 31., 36., 27., 32., 40., 42., 28., 32.,\n",
       "       26., 36., 26., 38., 41., 34., 34., 26., 27., 35., 43., 42., 28.,\n",
       "       37., 35., 33., 39., 38., 35., 29., 30., 41., 38., 39., 26., 33.,\n",
       "       27., 38., 38., 27., 33., 36., 32., 38., 32., 25., 33., 26., 42.,\n",
       "       38., 44., 43., 42., 41., 39., 31., 42., 32., 39., 44., 33., 26.,\n",
       "       41., 26., 43., 34., 36., 34., 27., 32., 28., 37., 43., 42., 43.,\n",
       "       31., 42., 30., 41., 33., 62., 57., 48., 49., 53., 56., 59., 47.,\n",
       "       61., 52., 51., 48., 45., 52., 53., 55., 55., 56., 61., 60., 54.,\n",
       "       55., 49., 64., 59., 63., 53., 49., 62., 52., 57., 58., 59., 51.,\n",
       "       48., 57., 50., 56., 59., 46., 55., 62., 64., 47., 50., 61., 63.,\n",
       "       50., 62., 59., 48., 47., 55., 47., 52., 52., 60., 59., 55., 46.,\n",
       "       56., 46., 56., 50., 51., 58., 51., 48., 64., 57., 56., 50., 51.,\n",
       "       50., 47., 47., 61., 45., 50., 58., 45., 58., 50., 60., 57., 51.,\n",
       "       54., 52., 63., 56., 59., 61., 55., 47., 46., 50., 58., 56., 56.,\n",
       "       58., 76., 72., 84., 81., 88., 76., 90., 83., 72., 76., 68., 68.,\n",
       "       73., 74., 88., 78., 87., 72., 85., 82., 76., 78., 90., 72., 66.,\n",
       "       71., 77., 82., 71., 67., 72., 81., 82., 71., 77., 73., 84., 85.,\n",
       "       78., 79., 72., 71., 88., 75., 79., 88., 69., 80., 76., 69., 71.,\n",
       "       77., 84., 80., 84., 69., 87., 83., 69., 88., 77., 86., 76., 65.,\n",
       "       75., 85., 85., 89., 80., 72., 90., 74., 76., 68., 70., 82., 74.,\n",
       "       89., 72., 83., 85., 71., 83., 77., 77., 88., 70., 85., 86., 87.,\n",
       "       66., 90., 85., 78., 65., 70., 71., 69., 67., 72.])"
      ]
     },
     "execution_count": 40,
     "metadata": {},
     "output_type": "execute_result"
    }
   ],
   "source": [
    "GP1 = np.random.uniform(18,24,100)\n",
    "GP2 = np.random.uniform(25,44,100)\n",
    "GP3 = np.random.uniform(45,64,100)\n",
    "GP4 = np.random.uniform(65,90,100)\n",
    "GP = np.concatenate((GP1,GP2,GP3,GP4))\n",
    "GP.round(0)"
   ]
  },
  {
   "cell_type": "markdown",
   "metadata": {},
   "source": [
    "- Sample Standard Deviation, s\t22.286842719326\n",
    "- Variance (Sample Standard), s2\t496.70335839599\n",
    "- Population Standard Deviation, σ\t22.258966732533\n",
    "- Variance (Population Standard), σ2\t495.4616\n",
    "- Total Numbers, N\t400\n",
    "- Sum:\t18712\n",
    "- Mean (Average):\t46.78\n",
    "- Standard Error of the Mean (SEx̄):\t1.1143421359663   "
   ]
  },
  {
   "cell_type": "code",
   "execution_count": 41,
   "metadata": {},
   "outputs": [
    {
     "data": {
      "text/plain": [
       "400"
      ]
     },
     "execution_count": 41,
     "metadata": {},
     "output_type": "execute_result"
    }
   ],
   "source": [
    "len(GP)"
   ]
  },
  {
   "cell_type": "code",
   "execution_count": 42,
   "metadata": {},
   "outputs": [
    {
     "data": {
      "text/plain": [
       "46.9122711513583"
      ]
     },
     "execution_count": 42,
     "metadata": {},
     "output_type": "execute_result"
    }
   ],
   "source": [
    "np.mean(GP)"
   ]
  },
  {
   "cell_type": "code",
   "execution_count": 43,
   "metadata": {},
   "outputs": [
    {
     "data": {
      "text/plain": [
       "21.98772544101389"
      ]
     },
     "execution_count": 43,
     "metadata": {},
     "output_type": "execute_result"
    }
   ],
   "source": [
    "np.std(GP)"
   ]
  },
  {
   "cell_type": "code",
   "execution_count": 44,
   "metadata": {},
   "outputs": [
    {
     "data": {
      "image/png": "[encoded data removed]",
      "text/plain": [
       "<Figure size 432x288 with 1 Axes>"
      ]
     },
     "metadata": {},
     "output_type": "display_data"
    }
   ],
   "source": [
    "plt.hist([GP1,GP2,GP3,GP4], label=['Group1','Group2','Group3','Group4'])\n",
    "plt.legend()\n",
    "plt.ylabel('Homeless Adults')\n",
    "plt.xlabel('Age Groups')\n",
    "plt.title('Homelessness Report September 2018')\n",
    "\n",
    "plt.show()\n"
   ]
  },
  {
   "cell_type": "code",
   "execution_count": 45,
   "metadata": {},
   "outputs": [
    {
     "data": {
      "text/plain": [
       "array([2, 1, 2, 1, 1, 2, 2, 2, 2, 2, 1, 2, 2, 2, 1, 1, 1, 2, 2, 2, 1, 1,\n",
       "       2, 1, 1, 2, 2, 2, 1, 1, 2, 2, 2, 2, 1, 2, 1, 1, 1, 2, 2, 1, 2, 1,\n",
       "       2, 2, 1, 2, 1, 2, 2, 1, 1, 2, 2, 1, 2, 2, 2, 1, 1, 1, 1, 2, 1, 1,\n",
       "       1, 1, 1, 2, 2, 1, 1, 2, 2, 1, 2, 1, 2, 2, 2, 1, 1, 2, 1, 2, 2, 1,\n",
       "       1, 1, 2, 2, 2, 2, 1, 1, 2, 2, 2, 1, 1, 1, 1, 1, 1, 2, 2, 1, 2, 2,\n",
       "       2, 2, 2, 1, 2, 2, 1, 1, 2, 2, 1, 2, 1, 1, 2, 1, 2, 2, 1, 1, 1, 2,\n",
       "       2, 1, 2, 1, 2, 1, 2, 1, 1, 1, 1, 1, 1, 2, 2, 2, 2, 1, 1, 2, 2, 2,\n",
       "       2, 1, 1, 1, 1, 2, 1, 2, 2, 2, 1, 1, 2, 1, 2, 1, 1, 1, 1, 2, 2, 1,\n",
       "       2, 2, 1, 2, 2, 1, 2, 1, 1, 2, 1, 2, 1, 1, 2, 2, 1, 1, 1, 1, 2, 2,\n",
       "       1, 2, 1, 2, 1, 1, 1, 1, 1, 1, 1, 2, 1, 1, 1, 2, 1, 1, 1, 1, 1, 2,\n",
       "       2, 2, 1, 1, 2, 2, 2, 2, 1, 1, 2, 1, 1, 2, 2, 1, 1, 1, 2, 1, 1, 2,\n",
       "       1, 1, 2, 1, 1, 2, 1, 1, 1, 1, 1, 2, 1, 2, 2, 2, 2, 1, 2, 2, 2, 1,\n",
       "       2, 2, 1, 2, 2, 1, 1, 1, 1, 2, 2, 1, 2, 1, 2, 1, 2, 1, 2, 2, 1, 1,\n",
       "       2, 2, 2, 1, 1, 2, 2, 1, 1, 2, 2, 2, 1, 2, 2, 2, 1, 2, 1, 2, 2, 2,\n",
       "       1, 1, 1, 2, 1, 2, 2, 2, 1, 1, 2, 2, 1, 1, 1, 2, 2, 2, 1, 2, 2, 1,\n",
       "       1, 1, 2, 2, 1, 1, 1, 1, 1, 1, 2, 1, 1, 1, 1, 1, 1, 2, 1, 1, 1, 1,\n",
       "       1, 1, 1, 2, 2, 1, 2, 2, 1, 1, 1, 2, 2, 2, 2, 1, 2, 2, 1, 2, 1, 2,\n",
       "       2, 1, 2, 2, 1, 2, 1, 1, 1, 2, 2, 2, 1, 1, 2, 1, 2, 2, 1, 2, 2, 1,\n",
       "       1, 1, 2, 1])"
      ]
     },
     "execution_count": 45,
     "metadata": {},
     "output_type": "execute_result"
    }
   ],
   "source": [
    "Male = 1\n",
    "Female = 2\n",
    "\n",
    "Gender = np.random.randint(1,3, 400)# 400 Homeless Adults\n",
    "Gender"
   ]
  },
  {
   "cell_type": "code",
   "execution_count": 46,
   "metadata": {},
   "outputs": [
    {
     "data": {
      "text/plain": [
       "400"
      ]
     },
     "execution_count": 46,
     "metadata": {},
     "output_type": "execute_result"
    }
   ],
   "source": [
    "len(Gender)\n"
   ]
  },
  {
   "cell_type": "code",
   "execution_count": 47,
   "metadata": {},
   "outputs": [
    {
     "data": {
      "image/png": "[encoded data removed]",
      "text/plain": [
       "<Figure size 432x288 with 1 Axes>"
      ]
     },
     "metadata": {},
     "output_type": "display_data"
    }
   ],
   "source": [
    "x = np.random.randint(1,3, 400)\n",
    "plt.hist(x)\n",
    "plt.ylabel('Homeless Adults')\n",
    "plt.xlabel('Gender,  Male = 1 , Female = 2')\n",
    "plt.title('Homelessness Report September 2018')\n",
    "plt.show()"
   ]
  },
  {
   "cell_type": "code",
   "execution_count": 48,
   "metadata": {},
   "outputs": [
    {
     "data": {
      "text/plain": [
       "array([ 2.44979997e+00, -3.92187340e+00,  2.66976335e+00, -1.23460686e+00,\n",
       "        1.71218904e+00,  7.79549764e-01, -1.30328094e+00,  2.69083973e+00,\n",
       "       -4.48182222e+00,  3.49403354e-01,  4.76112880e+00,  6.55968169e+00,\n",
       "       -1.56469825e+00,  2.94496170e+00,  3.49823601e+00, -4.66429751e+00,\n",
       "        1.67681478e+00,  1.19294982e+00,  1.00244911e+00,  2.26219981e+00,\n",
       "        4.18677931e+00,  5.22497091e-01, -1.92559971e+00,  4.07341369e+00,\n",
       "        5.01931212e-01,  5.53666905e-01,  2.74323016e+00, -5.03355369e-01,\n",
       "        9.73967762e-01, -4.67396400e-01,  2.99521789e+00,  1.50620334e+00,\n",
       "       -5.20382708e-01, -1.00243912e-01, -2.27800301e+00, -1.05098189e+00,\n",
       "        3.75851655e+00,  3.54258823e+00, -4.46414854e+00,  9.81457783e-01,\n",
       "       -3.83531962e+00,  1.46851782e+00,  4.82983176e+00, -2.66853597e+00,\n",
       "        1.76043584e-01, -2.91000990e+00, -2.77926401e+00,  3.83124919e+00,\n",
       "        3.21138526e+00, -1.10843856e+00,  1.57486909e+00, -1.03059801e+00,\n",
       "        5.28708643e+00,  3.55159536e+00,  4.09611939e+00, -1.23000224e-01,\n",
       "       -1.21396686e+00,  7.86092073e-01,  1.45190858e+00,  2.34856809e+00,\n",
       "        9.28323042e-01,  9.57031043e-01, -1.22843409e+00,  1.74018034e+00,\n",
       "       -3.87867454e+00,  4.67623782e+00,  3.29602187e+00,  1.53792571e-01,\n",
       "       -2.75348298e-01, -2.01246313e+00,  2.05583740e+00, -1.09432390e+00,\n",
       "        1.00672559e+00,  2.08701710e+00, -1.22674099e+00,  4.30750691e+00,\n",
       "       -5.87512725e+00, -2.87277126e+00, -3.19487434e+00,  5.73922023e-01,\n",
       "        2.91333886e+00,  1.14087513e+00, -1.14523197e+00,  1.31020756e+00,\n",
       "        2.66125298e+00,  1.97009737e+00,  5.79428799e+00, -1.44611053e+00,\n",
       "        1.26795393e+00,  1.47018500e+00, -8.38103982e-01,  3.73939297e+00,\n",
       "       -4.03576459e+00, -1.26021709e-01, -2.41593002e+00,  1.39233526e+00,\n",
       "        3.84024750e+00,  2.34717546e+00,  2.16379397e-03, -4.57570447e+00,\n",
       "        1.90216870e+00,  2.43793731e+00, -1.55389647e+00, -2.75747063e+00,\n",
       "        1.91227653e+00,  7.02950205e-01,  1.02319997e+00, -2.78937242e+00,\n",
       "        6.41943483e+00, -4.34886523e-01,  2.19513990e+00, -4.49681481e+00,\n",
       "       -1.86867246e+00, -2.66767437e+00, -2.95325520e+00,  3.28212581e+00,\n",
       "       -5.30686039e-01, -5.39096661e-01,  1.40161635e+00,  3.28066408e+00,\n",
       "        5.45771900e-01,  1.02179712e+00,  1.42833347e+00, -1.18565003e+00,\n",
       "       -4.20409298e+00,  2.17638906e+00,  1.06361905e+00, -5.61323478e+00,\n",
       "       -8.16115655e-02,  4.30028571e-01,  5.94912568e+00, -1.01148391e+00,\n",
       "        1.38963283e+00, -8.85232011e-01,  2.31070760e+00, -2.53565337e+00,\n",
       "        2.23035324e+00,  2.62174852e+00,  2.34287723e-01, -1.83141318e+00,\n",
       "        9.53859199e-01, -5.78880276e+00, -2.78447020e-01, -1.83350385e-01,\n",
       "        5.25415739e-01, -2.91926649e+00, -3.75372220e-01,  4.20223937e-01,\n",
       "        5.61733682e-01, -4.48657612e+00,  1.30847921e+00,  1.61436125e+00,\n",
       "       -1.53732498e-01, -4.86085481e+00, -2.94024400e+00,  1.22388645e+00,\n",
       "        7.20349509e+00,  4.37537500e+00, -1.04216644e+00,  2.81512646e+00,\n",
       "        3.47358372e+00,  2.73353719e+00,  5.78501244e+00, -5.10402986e+00,\n",
       "        3.33946957e+00,  1.18131280e+00,  2.97628398e+00,  4.63775387e+00,\n",
       "        3.32526764e-01, -2.37725836e-01,  4.23536067e+00,  3.01296523e+00,\n",
       "       -5.92325501e-01, -6.06150606e-01,  2.16241248e+00,  5.74904456e-01,\n",
       "       -1.52042386e+00, -4.68805057e+00, -4.64685929e+00,  9.06054267e-02,\n",
       "        3.95533882e-01, -1.29647543e+00, -1.74803584e+00,  3.36980778e+00,\n",
       "        6.66011078e+00, -3.63333345e-01,  3.10774058e+00,  4.06489304e+00,\n",
       "        3.90538922e+00,  2.30094901e+00,  2.96804244e+00, -1.54770553e+00,\n",
       "        4.34052804e+00,  4.21609608e+00,  1.62590035e+00,  1.39548519e+00,\n",
       "        5.28225109e+00,  2.69142527e+00, -1.31827128e+00, -1.03813592e+00,\n",
       "       -8.59233362e-01, -2.56264531e-01, -1.17387535e+00, -1.24081514e+00,\n",
       "        2.49573984e+00,  2.79755688e+00, -2.96124283e+00,  1.88271439e+00,\n",
       "        1.39631976e+01,  1.21094220e+00,  9.81656883e-01,  3.37329124e+00,\n",
       "        1.12278748e+00,  4.66068132e+00,  3.37698227e+00, -1.40367155e+00,\n",
       "       -2.48383585e-01,  4.08936148e+00, -5.69557527e+00, -2.60846579e-02,\n",
       "       -2.12029410e+00,  6.06772222e+00,  9.61890468e+00,  1.64579373e+00,\n",
       "        9.33637661e-01, -1.52580798e+00, -7.41570152e-01, -4.41582438e+00,\n",
       "       -6.41765037e-01, -4.34384369e-01, -1.51043744e-01,  1.00028201e+00,\n",
       "        1.57504882e-01,  1.81877597e+00,  4.70734189e+00,  2.94727067e+00,\n",
       "        9.98958964e-01, -4.50050056e+00,  5.91234342e+00,  2.08205993e+00,\n",
       "        1.78455460e-02, -1.32482123e+00,  2.00869522e+00,  3.47561979e+00,\n",
       "        1.13013946e+00, -4.15115397e-02,  1.23958542e+00, -5.04760013e-01,\n",
       "        5.19385487e+00,  2.93674118e+00, -9.13260609e-01, -1.33859167e+00,\n",
       "        3.86351058e+00,  5.22071078e+00,  4.27118157e+00,  3.49713750e+00,\n",
       "       -3.59412533e+00, -5.52429114e+00, -3.78878633e-01, -3.37991242e+00,\n",
       "        3.42013361e+00,  2.87945148e+00,  8.39844044e+00,  1.36301570e+00,\n",
       "        1.30050507e+00,  2.43783067e+00,  4.20331567e+00,  4.87122743e+00,\n",
       "        3.41786510e+00,  3.52505103e+00,  1.49047429e+00, -4.38246778e+00,\n",
       "        3.30179959e+00, -6.91839672e+00, -3.00027997e+00,  3.74693770e-01,\n",
       "        3.51566247e+00,  1.35246010e+00, -4.59439854e-01,  1.27608168e-01,\n",
       "       -2.46851404e+00, -3.65722615e+00, -1.17432723e+00,  1.23750810e-01,\n",
       "        4.76302832e+00, -2.48416777e+00,  3.11616896e+00,  4.11454790e+00,\n",
       "       -4.39467738e-01,  3.67320204e+00, -1.88394522e+00, -4.40528186e+00,\n",
       "        1.52417182e+00,  3.35867699e+00, -2.09138519e+00,  2.10247734e+00,\n",
       "       -3.91977686e-01, -3.67550438e+00,  5.47744869e-01, -1.61255548e+00,\n",
       "        4.18015474e+00,  5.52829413e+00, -7.66176486e+00,  1.28964081e+00,\n",
       "        2.00611480e+00,  1.22701351e+00,  2.17241324e+00,  7.60783037e-01,\n",
       "       -1.67484675e+00, -2.26977552e+00, -1.36168207e+00,  4.04557671e-01,\n",
       "        5.10747520e+00,  1.44927433e+00, -1.64971113e+00,  7.63311256e-01,\n",
       "       -7.06245307e+00, -2.07981309e+00, -2.61906662e+00,  1.67394105e+00,\n",
       "       -5.62183771e-01,  5.56096069e+00,  2.85696521e+00,  6.12273348e-01,\n",
       "        3.08367131e+00, -1.66183547e+00, -1.94049573e+00, -3.45037409e+00,\n",
       "        3.86726223e+00,  3.79559152e+00,  1.73138194e+00,  5.46512666e+00,\n",
       "       -3.53472429e+00,  1.27895466e-01,  1.14150052e+00, -3.86948126e+00,\n",
       "       -8.91136585e-01, -3.43640202e+00, -1.07972371e+00,  7.42186167e-01,\n",
       "        1.09040089e+00,  3.80623586e+00,  1.91004153e+00,  1.96038791e-01,\n",
       "       -5.63706399e+00,  2.36785262e-01,  8.96928169e-01,  5.98284131e-01,\n",
       "        5.18231715e-01,  1.43160093e+00,  4.26964050e+00,  4.24447750e+00,\n",
       "        3.39230076e+00,  1.05784831e+00, -5.85980104e+00,  5.47834416e-01,\n",
       "        6.86503385e-01,  3.31624520e+00, -1.41225718e+00, -4.75411156e-01,\n",
       "        2.10367867e+00,  2.74466159e+00,  2.01937799e+00, -3.20634003e+00,\n",
       "       -1.43347317e+00,  5.04835897e-01, -6.21214782e+00,  5.35289072e+00,\n",
       "        4.09761125e-01,  1.05111446e+00,  2.92186358e+00, -1.58209465e-02,\n",
       "        2.21521869e+00, -1.90493228e+00,  7.39243260e-01, -7.90149679e-02,\n",
       "        3.01859971e+00,  2.63655686e+00,  4.53035145e+00, -3.27674646e+00,\n",
       "        2.40477046e+00, -2.55890481e+00, -3.02227853e+00,  1.08092932e+00,\n",
       "        1.18580244e+00,  1.02138048e-02,  3.50413441e+00, -2.27485930e+00,\n",
       "        8.22057012e-01, -6.63885811e+00,  2.21380185e+00, -2.81199345e-01,\n",
       "        2.59704181e+00, -1.50238505e+00, -9.19036349e-01, -3.43604697e-01,\n",
       "        6.11763555e+00, -2.16895470e-01, -1.23176888e+00,  7.51032602e+00])"
      ]
     },
     "execution_count": 48,
     "metadata": {},
     "output_type": "execute_result"
    }
   ],
   "source": [
    "TEA = 1\n",
    "OTH = 2\n",
    "\n",
    "import numpy as np \n",
    "AccTyp = np.random.normal(1,3, 400)\n",
    "AccTyp"
   ]
  },
  {
   "cell_type": "code",
   "execution_count": 49,
   "metadata": {},
   "outputs": [
    {
     "data": {
      "image/png": "[encoded data removed]",
      "text/plain": [
       "<Figure size 432x288 with 1 Axes>"
      ]
     },
     "metadata": {},
     "output_type": "display_data"
    }
   ],
   "source": [
    "x = np.random.normal(1,3, 400)\n",
    "plt.hist(x)\n",
    "plt.ylabel('Homeless Adults')\n",
    "plt.xlabel('Accommodation Type')\n",
    "plt.title('Homelessness Report September 2018')\n",
    "plt.show()"
   ]
  },
  {
   "cell_type": "code",
   "execution_count": 50,
   "metadata": {},
   "outputs": [
    {
     "data": {
      "text/plain": [
       "array(['No', 'Yes', 'Yes', 'No', 'No', 'Yes', 'No', 'No', 'Yes', 'Yes',\n",
       "       'Yes', 'Yes', 'No', 'Yes', 'No', 'Yes', 'Yes', 'No', 'Yes', 'No',\n",
       "       'No', 'No', 'No', 'Yes', 'Yes', 'No', 'Yes', 'No', 'No', 'Yes',\n",
       "       'No', 'Yes', 'Yes', 'No', 'Yes', 'No', 'Yes', 'Yes', 'No', 'Yes',\n",
       "       'No', 'No', 'No', 'No', 'No', 'Yes', 'No', 'No', 'Yes', 'No', 'No',\n",
       "       'No', 'No', 'No', 'Yes', 'No', 'Yes', 'Yes', 'No', 'No', 'No',\n",
       "       'Yes', 'Yes', 'Yes', 'No', 'Yes', 'No', 'No', 'No', 'No', 'Yes',\n",
       "       'No', 'Yes', 'Yes', 'No', 'No', 'Yes', 'No', 'Yes', 'Yes', 'No',\n",
       "       'No', 'Yes', 'Yes', 'No', 'Yes', 'No', 'No', 'No', 'No', 'Yes',\n",
       "       'No', 'Yes', 'Yes', 'Yes', 'Yes', 'No', 'No', 'No', 'No', 'Yes',\n",
       "       'No', 'Yes', 'No', 'Yes', 'No', 'No', 'No', 'No', 'Yes', 'No',\n",
       "       'No', 'No', 'No', 'No', 'No', 'No', 'Yes', 'Yes', 'Yes', 'No',\n",
       "       'No', 'No', 'No', 'Yes', 'Yes', 'No', 'No', 'Yes', 'Yes', 'No',\n",
       "       'No', 'Yes', 'No', 'No', 'Yes', 'No', 'No', 'Yes', 'No', 'No',\n",
       "       'No', 'No', 'Yes', 'Yes', 'No', 'Yes', 'Yes', 'No', 'No', 'No',\n",
       "       'Yes', 'No', 'Yes', 'No', 'No', 'Yes', 'No', 'No', 'Yes', 'No',\n",
       "       'Yes', 'No', 'Yes', 'Yes', 'No', 'No', 'Yes', 'No', 'Yes', 'No',\n",
       "       'No', 'Yes', 'No', 'Yes', 'No', 'Yes', 'No', 'Yes', 'No', 'No',\n",
       "       'Yes', 'Yes', 'No', 'Yes', 'Yes', 'Yes', 'No', 'Yes', 'No', 'Yes',\n",
       "       'No', 'No', 'Yes', 'Yes', 'Yes', 'No', 'No', 'No', 'Yes', 'No',\n",
       "       'Yes', 'No', 'Yes', 'No', 'Yes', 'Yes', 'No', 'Yes', 'No', 'No',\n",
       "       'Yes', 'No', 'Yes', 'No', 'Yes', 'No', 'Yes', 'Yes', 'Yes', 'Yes',\n",
       "       'No', 'No', 'Yes', 'Yes', 'Yes', 'Yes', 'Yes', 'Yes', 'Yes', 'No',\n",
       "       'No', 'No', 'Yes', 'Yes', 'Yes', 'No', 'Yes', 'Yes', 'No', 'Yes',\n",
       "       'No', 'No', 'Yes', 'Yes', 'No', 'No', 'Yes', 'No', 'No', 'No',\n",
       "       'No', 'No', 'No', 'No', 'Yes', 'Yes', 'No', 'Yes', 'No', 'No',\n",
       "       'No', 'No', 'Yes', 'Yes', 'No', 'Yes', 'Yes', 'No', 'Yes', 'No',\n",
       "       'Yes', 'Yes', 'Yes', 'No', 'No', 'Yes', 'No', 'No', 'Yes', 'Yes',\n",
       "       'No', 'Yes', 'No', 'Yes', 'Yes', 'No', 'Yes', 'No', 'Yes', 'No',\n",
       "       'No', 'No', 'Yes', 'No', 'No', 'No', 'Yes', 'Yes', 'No', 'No',\n",
       "       'No', 'No', 'Yes', 'No', 'Yes', 'Yes', 'Yes', 'No', 'No', 'Yes',\n",
       "       'No', 'Yes', 'Yes', 'No', 'No', 'Yes', 'No', 'No', 'No', 'No',\n",
       "       'Yes', 'Yes', 'Yes', 'Yes', 'No', 'No', 'No', 'No', 'Yes', 'No',\n",
       "       'Yes', 'No', 'Yes', 'Yes', 'No', 'Yes', 'No', 'Yes', 'Yes', 'No',\n",
       "       'Yes', 'No', 'No', 'Yes', 'Yes', 'Yes', 'Yes', 'No', 'No', 'Yes',\n",
       "       'Yes', 'Yes', 'No', 'Yes', 'Yes', 'No', 'Yes', 'No', 'Yes', 'Yes',\n",
       "       'Yes', 'Yes', 'Yes', 'Yes', 'Yes', 'No', 'Yes', 'Yes', 'No', 'Yes',\n",
       "       'Yes', 'Yes', 'No', 'Yes', 'No', 'No', 'No', 'Yes', 'Yes', 'No',\n",
       "       'No', 'Yes', 'No', 'Yes', 'No', 'No', 'No', 'Yes', 'Yes', 'Yes',\n",
       "       'No', 'No', 'Yes', 'Yes', 'No', 'No', 'No', 'No', 'No'],\n",
       "      dtype='<U3')"
      ]
     },
     "execution_count": 50,
     "metadata": {},
     "output_type": "execute_result"
    }
   ],
   "source": [
    "import numpy as np\n",
    "SPF = np.random.choice([\"Yes\",\"No\"], size=400)\n",
    "SPF"
   ]
  },
  {
   "cell_type": "code",
   "execution_count": 51,
   "metadata": {},
   "outputs": [
    {
     "data": {
      "text/plain": [
       "400"
      ]
     },
     "execution_count": 51,
     "metadata": {},
     "output_type": "execute_result"
    }
   ],
   "source": [
    "len(SPF)"
   ]
  },
  {
   "cell_type": "code",
   "execution_count": null,
   "metadata": {},
   "outputs": [],
   "source": [
    "\n"
   ]
  },
  {
   "cell_type": "code",
   "execution_count": null,
   "metadata": {},
   "outputs": [],
   "source": []
  }
 ],
 "metadata": {
  "kernelspec": {
   "display_name": "Python 3",
   "language": "python",
   "name": "python3"
  },
  "language_info": {
   "codemirror_mode": {
    "name": "ipython",
    "version": 3
   },
   "file_extension": ".py",
   "mimetype": "text/x-python",
   "name": "python",
   "nbconvert_exporter": "python",
   "pygments_lexer": "ipython3",
   "version": "3.6.5"
  }
 },
 "nbformat": 4,
 "nbformat_minor": 2
}
