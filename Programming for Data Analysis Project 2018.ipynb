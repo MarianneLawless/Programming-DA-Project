{
 "cells": [
  {
   "cell_type": "markdown",
   "metadata": {},
   "source": [
    "# Simulation of a real world phenomenon\n",
    "\n",
    "### Project outline and objectives\n",
    "\n",
    "•\tChoose a real-world phenomenon that can be measured and for which you could collect at least one-hundred data points across at least four different variables.\n",
    "\n",
    "•\tInvestigate the types of variables involved, their likely distributions, and their relationships with each other.\n",
    "\n",
    "•\tSynthesise/simulate a data set as closely matching their properties as possible.\n",
    "\n",
    "•\tDetail your research and implement the simulation in a Jupyter notebook – the data set itself can simply be displayed in an output cell within the notebook.\n",
    "\n",
    "## Phenomenon Chosen\n",
    "\n",
    "# 'Homelessness in Ireland' - The State of our nation\n",
    "\n",
    "### Squeezed out of private rental market into homelessness \n",
    "#### \"New Homelessness in Ireland\""
   ]
  },
  {
   "cell_type": "markdown",
   "metadata": {},
   "source": [
    "Homelessness Overview\n",
    "\n",
    "Is homelessness increasing or decreasing in Ireland? Unfortunately, homelessness is increasing year on year. Between December 2014 and May 2018  there was a net increase of 6,988 people recorded as homeless. This upward trend has existed for a number of years and the number of people becoming homeless on a daily average has increased.\n",
    "\n",
    "How many people exited homelessness in 2017? In a statement reacting to the publication of the January 2018 homeless figures, Minister for Housing Eoghan Murphy said over 4,000 adults had exited homelessness in Ireland in 2017.   This means that if 7,148 people were accessing emergency accommodation in December 2016 and 8,587 people were recorded as homeless in December 2017, the net increase in cases of homelessness in Ireland during 2017 would be 1,439. This net increase together with exits means at least an additional 5,439 new cases of homelessness were recorded in 2017. This figure can also be broken down into 15 people per day. \n",
    "\n",
    "Estimated number of rough sleepers in Dublin – spring 2018 : 110 people were recorded as sleeping rough in Dublin on the night of the official rough sleeper count. "
   ]
  },
  {
   "cell_type": "markdown",
   "metadata": {},
   "source": [
    "'Truly shocking': There are now 9,846 homeless people in Ireland\n",
    "Slight rise in homeless figures, Department stats show "
   ]
  },
  {
   "cell_type": "markdown",
   "metadata": {},
   "source": [
    "\n"
   ]
  },
  {
   "cell_type": "markdown",
   "metadata": {},
   "source": [
    "\n",
    "Why do people become homeless?\n",
    "\n",
    "The reasons for people becoming homeless are both complex and wide-ranging but there is a particular risk at present for families with tenancies in the private rented sector.\n",
    "\n",
    "According to Ending Homelessness – A Housing-Led Approach (pdf), research shows that the following are the main factors that lead to homelessness:\n",
    "\n",
    "    -Housing and financial crises\n",
    "    -Discharge from institutions\n",
    "    -Family breakdown, including domestic violence\n",
    "    -Substance abuse\n",
    "    -Mental health issues\n",
    "    -The transition from youth to adulthood for young people in care or who were homeless as young people\n",
    "\n",
    "Many people are homeless for relatively short periods, for reasons linked to issues such as loss of employment, eviction or relationship breakdown. Others who experience multiple forms of social exclusion may become homeless in the long term, especially if they have been homeless before they become adults.\n"
   ]
  },
  {
   "cell_type": "markdown",
   "metadata": {},
   "source": [
    "\n"
   ]
  },
  {
   "cell_type": "markdown",
   "metadata": {},
   "source": [
    "Statistics on homelessness are important in helping to analyse and understand the issue. However, it is important to note that these numbers cannot convey the personal trauma that homelessness can bring"
   ]
  },
  {
   "cell_type": "markdown",
   "metadata": {},
   "source": [
    "**There were 9,527 people homeless in the week of August 20th-26th 2018 across Ireland. This figure includes adults and children. The number of families becoming homeless has increased by 18% since August 2017. More than one in three people in emergency accommodation is a child.**"
   ]
  },
  {
   "cell_type": "markdown",
   "metadata": {},
   "source": [
    "\n",
    "Why do people become homeless?\n",
    "\n",
    "The reasons for people becoming homeless are both complex and wide-ranging but there is a particular risk at present for families with tenancies in the private rented sector.\n",
    "\n",
    "According to Ending Homelessness – A Housing-Led Approach (pdf), research shows that the following are the main factors that lead to homelessness:\n",
    "\n",
    "    -Housing and financial crises\n",
    "    -Discharge from institutions\n",
    "    -Family breakdown, including domestic violence\n",
    "    -Substance abuse\n",
    "    -Mental health issues\n",
    "    -The transition from youth to adulthood for young people in care or who were homeless as young people\n",
    "\n",
    "Many people are homeless for relatively short periods, for reasons linked to issues such as loss of employment, eviction or relationship breakdown. Others who experience multiple forms of social exclusion may become homeless in the long term, especially if they have been homeless before they become adults.\n"
   ]
  },
  {
   "cell_type": "markdown",
   "metadata": {},
   "source": []
  },
  {
   "cell_type": "markdown",
   "metadata": {},
   "source": [
    "### Investigation of the types of variables, their likely distributions, and their relationships \n",
    "\n",
    "**Variables of interest Chosen**\n",
    "\n"
   ]
  },
  {
   "cell_type": "markdown",
   "metadata": {},
   "source": [
    "- Region\n",
    "- Adults\n",
    "- Adult age group\n",
    "- Adult Gender\n",
    "- Children\n",
    "- Accomodation Type"
   ]
  },
  {
   "cell_type": "code",
   "execution_count": 1,
   "metadata": {},
   "outputs": [],
   "source": [
    "import pandas as pd\n",
    "import numpy as np\n",
    "import matplotlib.pyplot as plt"
   ]
  },
  {
   "cell_type": "code",
   "execution_count": null,
   "metadata": {},
   "outputs": [],
   "source": []
  },
  {
   "cell_type": "code",
   "execution_count": 9,
   "metadata": {},
   "outputs": [
    {
     "data": {
      "text/plain": [
       "array([20., 19., 19., 23., 19., 19., 18., 22., 20., 23., 19., 18., 22.,\n",
       "       21., 21., 24., 19., 21., 23., 20., 21., 19., 22., 21., 22., 22.,\n",
       "       22., 19., 20., 18., 21., 18., 22., 22., 23., 19., 18., 21., 23.,\n",
       "       20., 21., 21., 21., 23., 21., 19., 19., 20., 23., 20., 35., 40.,\n",
       "       28., 37., 42., 32., 44., 27., 26., 31., 41., 26., 41., 40., 44.,\n",
       "       34., 37., 32., 27., 38., 40., 36., 32., 43., 29., 32., 32., 43.,\n",
       "       44., 28., 39., 32., 29., 29., 33., 41., 36., 43., 37., 28., 43.,\n",
       "       43., 36., 30., 36., 39., 26., 32., 39., 42., 46., 51., 48., 54.,\n",
       "       50., 55., 55., 50., 55., 55., 51., 61., 53., 51., 49., 64., 60.,\n",
       "       47., 58., 54., 60., 54., 45., 63., 56., 52., 62., 49., 57., 62.,\n",
       "       61., 60., 54., 58., 57., 55., 51., 61., 55., 59., 62., 51., 63.,\n",
       "       58., 59., 49., 54., 58., 48., 60., 66., 70., 70., 70., 68., 67.,\n",
       "       68., 67., 70., 70., 70., 69., 68., 69., 65., 65., 69., 67., 69.,\n",
       "       67., 68., 68., 66., 68., 69., 66., 70., 68., 67., 66., 69., 68.,\n",
       "       69., 66., 68., 70., 67., 69., 67., 68., 68., 66., 69., 69., 66.,\n",
       "       67., 67., 69., 66., 66.])"
      ]
     },
     "execution_count": 9,
     "metadata": {},
     "output_type": "execute_result"
    }
   ],
   "source": [
    "GP1 = np.random.uniform(18,24,50)# Homeless Adult Age Group\n",
    "GP2 = np.random.uniform(25,44,50)# Homeless Adult Age Group\n",
    "GP3 = np.random.uniform(45,64,50)# Homeless Adult Age Group\n",
    "GP4 = np.random.uniform(65,70,50)# Homeless Adult Age Group\n",
    "GP = np.concatenate((GP1,GP2,GP3,GP4))# Total Homeless Adult Age Group\n",
    "\n",
    "GP.round(0)"
   ]
  },
  {
   "cell_type": "code",
   "execution_count": 3,
   "metadata": {},
   "outputs": [
    {
     "data": {
      "text/plain": [
       "200"
      ]
     },
     "execution_count": 3,
     "metadata": {},
     "output_type": "execute_result"
    }
   ],
   "source": [
    "len(GP)"
   ]
  },
  {
   "cell_type": "code",
   "execution_count": 4,
   "metadata": {},
   "outputs": [],
   "source": [
    "import matplotlib.pyplot as plt\n",
    "%matplotlib inline"
   ]
  },
  {
   "cell_type": "code",
   "execution_count": 5,
   "metadata": {},
   "outputs": [
    {
     "data": {
      "image/png": "[encoded data removed]",
      "text/plain": [
       "<Figure size 432x288 with 1 Axes>"
      ]
     },
     "metadata": {},
     "output_type": "display_data"
    }
   ],
   "source": [
    "plt.hist([GP1,GP2,GP3,GP4], label=['Group1','Group2','Group3','Group4'])\n",
    "plt.legend()\n",
    "plt.ylabel('Homeless Adults')\n",
    "plt.xlabel('Age Groups')\n",
    "plt.title('Homelessness Report September 2018')\n",
    "\n",
    "plt.show()\n"
   ]
  },
  {
   "cell_type": "code",
   "execution_count": 6,
   "metadata": {},
   "outputs": [
    {
     "data": {
      "text/plain": [
       "array([2, 1, 1, 2, 2, 1, 1, 1, 1, 2, 1, 1, 1, 1, 2, 2, 2, 1, 2, 2, 2, 1,\n",
       "       2, 1, 1, 2, 2, 1, 1, 1, 1, 2, 2, 2, 2, 2, 1, 1, 1, 2, 1, 2, 2, 2,\n",
       "       1, 2, 1, 1, 2, 2, 1, 2, 2, 1, 2, 1, 1, 2, 2, 2, 1, 1, 2, 1, 2, 1,\n",
       "       1, 1, 2, 2, 2, 1, 1, 1, 1, 2, 2, 1, 2, 2, 2, 2, 1, 1, 2, 2, 1, 2,\n",
       "       2, 1, 2, 2, 2, 2, 1, 1, 2, 2, 1, 2, 2, 2, 1, 2, 1, 1, 2, 1, 2, 1,\n",
       "       1, 1, 2, 1, 1, 2, 2, 1, 1, 2, 1, 1, 1, 2, 2, 1, 2, 2, 1, 2, 1, 1,\n",
       "       2, 1, 2, 1, 2, 2, 2, 1, 1, 2, 1, 1, 1, 1, 1, 2, 1, 2, 1, 2, 2, 1,\n",
       "       1, 2, 1, 2, 1, 2, 1, 1, 1, 2, 2, 1, 2, 1, 1, 1, 1, 2, 1, 2, 2, 2,\n",
       "       1, 1, 1, 1, 1, 2, 2, 1, 2, 1, 1, 1, 2, 2, 1, 2, 1, 1, 1, 2, 1, 1,\n",
       "       2, 2])"
      ]
     },
     "execution_count": 6,
     "metadata": {},
     "output_type": "execute_result"
    }
   ],
   "source": [
    "Male = 1\n",
    "Female = 2\n",
    "\n",
    "Gender = np.random.randint(1,3, 200)# 200 Homeless Adults\n",
    "Gender"
   ]
  },
  {
   "cell_type": "code",
   "execution_count": 7,
   "metadata": {},
   "outputs": [
    {
     "data": {
      "text/plain": [
       "200"
      ]
     },
     "execution_count": 7,
     "metadata": {},
     "output_type": "execute_result"
    }
   ],
   "source": [
    "len(Gender)"
   ]
  },
  {
   "cell_type": "code",
   "execution_count": 8,
   "metadata": {},
   "outputs": [
    {
     "data": {
      "image/png": "[encoded data removed]",
      "text/plain": [
       "<Figure size 432x288 with 1 Axes>"
      ]
     },
     "metadata": {},
     "output_type": "display_data"
    }
   ],
   "source": [
    "x = np.random.randint(1,3, 200)\n",
    "plt.hist(x)\n",
    "plt.ylabel('Homeless Adults')\n",
    "plt.xlabel('Gender,  Male = 1 , Female = 2')\n",
    "plt.title('Homelessness Report September 2018')\n",
    "plt.show()"
   ]
  },
  {
   "cell_type": "code",
   "execution_count": null,
   "metadata": {},
   "outputs": [],
   "source": []
  },
  {
   "cell_type": "code",
   "execution_count": null,
   "metadata": {},
   "outputs": [],
   "source": []
  },
  {
   "cell_type": "code",
   "execution_count": null,
   "metadata": {},
   "outputs": [],
   "source": []
  }
 ],
 "metadata": {
  "kernelspec": {
   "display_name": "Python 3",
   "language": "python",
   "name": "python3"
  },
  "language_info": {
   "codemirror_mode": {
    "name": "ipython",
    "version": 3
   },
   "file_extension": ".py",
   "mimetype": "text/x-python",
   "name": "python",
   "nbconvert_exporter": "python",
   "pygments_lexer": "ipython3",
   "version": "3.6.5"
  }
 },
 "nbformat": 4,
 "nbformat_minor": 2
}
