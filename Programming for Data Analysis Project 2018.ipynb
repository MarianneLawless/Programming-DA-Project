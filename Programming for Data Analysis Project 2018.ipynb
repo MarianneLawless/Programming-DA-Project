{
 "cells": [
  {
   "cell_type": "markdown",
   "metadata": {},
   "source": [
    "\n",
    "# Simulation of a real world phenomenon\n",
    "\n",
    "### Project outline and objectives\n",
    "\n",
    "•\tChoose a real-world phenomenon that can be measured and for which you could collect at least one-hundred data points across at least four different variables.\n",
    "\n",
    "•\tInvestigate the types of variables involved, their likely distributions, and their relationships with each other.\n",
    "\n",
    "•\tSynthesise/simulate a data set as closely matching their properties as possible.\n",
    "\n",
    "•\tDetail your research and implement the simulation in a Jupyter notebook – the data set itself can simply be displayed in an output cell within the notebook.\n",
    "\n",
    "## Phenomenon Chosen\n",
    "\n",
    "# 'Homelessness in Ireland' - The State of our nation\n",
    "\n",
    "### Squeezed out of private rental market into homelessness"
   ]
  },
  {
   "cell_type": "markdown",
   "metadata": {},
   "source": [
    "'An avalanche of homelessness is coming,’ says McVerry\n",
    "\n",
    "Campaigner says he is shocked but not surprised at family sleeping on plastic chairs\n",
    "\n",
    "Campaigner Fr Peter McVerry is predicting that “an avalanche of homelessness is coming down the road” and that the Pope’s visit is “a test run.”\n",
    "\n",
    "The problem is “getting worse and worse”, “It is beyond a crisis, it is getting out of control and the Government doesn’t know what to do. I really fear what is going to happen in the next two years.”\n",
    "\n",
    "He said that the majority of people now presenting as homeless have come from the private rental sector where they were evicted because the landlord was selling the property or carrying out renovations.\n",
    "\n",
    "The flow of people from the private rental sector into homelessness was like trying to empty out the bathwater while the tap was still running, claimed Fr McVerry.\n",
    "\n",
    "“The reality is the Government has no solution. They don’t know what to do about it and the situation is getting worse.”\n",
    "\n",
    "Five years ago there were no homeless families now it was a *phenomenon* that had come about as a result of the failure of Government policy, he said.\n",
    "\n",
    "Expecting homeless families to make phone calls every day to find a hotel room was unrealistic, said Fr. McVerry.\n",
    "\n",
    "“If a family becomes homeless the Dublin Regional Housing Executive tells them to get a hotel themselves and then they’ll pay for it.\n",
    "\n",
    "He said there were not enough family hubs despite the fact that Simon Coveney, when he was Minister for Housing, had said that there would be no families in hotels by the end of last year. There are now more families in hotels than there were last year.\n",
    "\n",
    "While he had mixed feelings about family hubs, he said they were “better than nothing.”\n",
    "\n",
    "The Pope’s visit will be a test case for pressures on the system, he warned.\n",
    "\n",
    "Fr McVerry also pointed out that there are 43,000 mortgages in distress in the country, what will happen when they are repossessed?\n",
    "\n",
    "“That could create an avalanche of homelessness and we won’t be able to cope with it.”\n",
    "\n",
    "Brexit will also mean further challenges with staff from financial services companies moving to Dublin. “Those staff will take up accommodation from the private sector.”\n",
    "\n",
    "He also warned that children are being emotionally, psychologically and educationally damaged by homelessness and he feared that in the future he would see them a drop in centres seeking assistance."
   ]
  },
  {
   "cell_type": "markdown",
   "metadata": {},
   "source": [
    "**There were 9,527 people homeless in the week of August 20th-26th 2018 across Ireland. This figure includes adults and children. The number of families becoming homeless has increased by 18% since August 2017. More than one in three people in emergency accommodation is a child.**"
   ]
  },
  {
   "cell_type": "markdown",
   "metadata": {},
   "source": [
    "### No Shelter: Our homelessness crisis is at boiling point - we want Ireland to talk about it\n",
    "\n",
    "### Over 60 homeless children referred to Tusla\n",
    "Tusla received an average of 10 child protection and welfare referrals a month in the first half of this year relating to homeless children — half of which were for neglect.\n",
    "\n",
    "Figures provided by Tusla in response to a freedom of information request show 61 mandated reports made to the agency by managers and people in charge of homeless provision or emergency accommodation centres — 29 for neglect, 17 for physical abuse, 13 for emotional abuse, and two relating to sexual abuse.\n",
    "\n",
    "Tusla only began collating the data at the start of this year, and while the monthly figures have fluctuated, they peaked in May, when 17 reports were made.\n",
    "\n",
    "The figures prompted the Irish Association of Social Workers (IASW) to query whether homelessness itself was a contributory factor to some of the reports.\n",
    "\n",
    "Aine McGuirk, chairwoman of the IASW, said that while family homelessness was a relatively recent phenomenon, it was now in danger of becoming normalised, even though it was a “completely unnatural environment”.\n",
    "\n",
    "**There were 9,527 people in emergency accommodation in August, including 3,693 children. The overall figure fell slightly compared to the figure for J\n",
    "uly, when 9,891 people were homeless**"
   ]
  },
  {
   "cell_type": "markdown",
   "metadata": {},
   "source": [
    "### Investigation of the types of variables, their likely distributions, and their relationships \n",
    "\n",
    "**Variables of interest Chosen**\n",
    "\n"
   ]
  },
  {
   "cell_type": "markdown",
   "metadata": {},
   "source": [
    "- Region\n",
    "   - Dublin, Mid-East, Midlands, Mid-West, North-East, North-West, South-East, South-West, \n",
    "    West\n",
    "    \n",
    "\n",
    "- Adults\n",
    "\n",
    "\n",
    "- Adult age group\n",
    "  - 18-24, 25-44, 45-64, 65+\n",
    "    \n",
    "\n",
    "- Adult Gender\n",
    "    - Male/Female\n",
    "    \n",
    "\n",
    "- Children\n",
    "\n",
    "\n",
    "- Accomodation Type\n",
    "\n",
    "    -Private Emergency Accomodation \n",
    "    \n",
    "    -Supported Temporary Accomodation\n",
    "    \n",
    "    -Temporary Emergency Accomodation\n"
   ]
  },
  {
   "cell_type": "code",
   "execution_count": 2,
   "metadata": {},
   "outputs": [],
   "source": [
    "import pandas as pd\n",
    "import numpy as np\n",
    "import matplotlib.pyplot as plt"
   ]
  },
  {
   "cell_type": "code",
   "execution_count": null,
   "metadata": {},
   "outputs": [],
   "source": []
  },
  {
   "cell_type": "code",
   "execution_count": null,
   "metadata": {},
   "outputs": [],
   "source": []
  },
  {
   "cell_type": "code",
   "execution_count": null,
   "metadata": {},
   "outputs": [],
   "source": []
  },
  {
   "cell_type": "code",
   "execution_count": null,
   "metadata": {},
   "outputs": [],
   "source": []
  },
  {
   "cell_type": "code",
   "execution_count": null,
   "metadata": {},
   "outputs": [],
   "source": []
  },
  {
   "cell_type": "code",
   "execution_count": null,
   "metadata": {},
   "outputs": [],
   "source": []
  },
  {
   "cell_type": "code",
   "execution_count": null,
   "metadata": {},
   "outputs": [],
   "source": []
  },
  {
   "cell_type": "code",
   "execution_count": null,
   "metadata": {},
   "outputs": [],
   "source": []
  },
  {
   "cell_type": "code",
   "execution_count": null,
   "metadata": {},
   "outputs": [],
   "source": []
  },
  {
   "cell_type": "code",
   "execution_count": null,
   "metadata": {},
   "outputs": [],
   "source": []
  },
  {
   "cell_type": "code",
   "execution_count": 19,
   "metadata": {},
   "outputs": [
    {
     "data": {
      "text/plain": [
       "array([21., 24., 21., 23., 23., 22., 19., 21., 20., 19., 23., 19., 24.,\n",
       "       24., 22., 21., 19., 21., 18., 23., 21., 22., 20., 19., 21., 19.,\n",
       "       20., 19., 18., 20., 21., 22., 20., 19., 23., 19., 21., 20., 18.,\n",
       "       19., 22., 23., 21., 20., 22., 18., 20., 21., 21., 19., 42., 40.,\n",
       "       33., 42., 42., 31., 30., 32., 38., 39., 39., 32., 37., 36., 28.,\n",
       "       34., 37., 44., 27., 28., 35., 37., 28., 37., 42., 38., 31., 36.,\n",
       "       35., 34., 36., 35., 30., 36., 25., 34., 29., 32., 40., 39., 42.,\n",
       "       35., 37., 28., 33., 31., 42., 25., 36., 25., 60., 57., 59., 53.,\n",
       "       61., 64., 58., 55., 52., 47., 58., 48., 56., 59., 48., 48., 61.,\n",
       "       53., 53., 57., 57., 55., 62., 61., 50., 51., 58., 58., 63., 45.,\n",
       "       55., 50., 52., 63., 52., 48., 60., 46., 61., 54., 54., 53., 49.,\n",
       "       55., 52., 53., 48., 61., 59., 64., 69., 66., 66., 70., 68., 67.,\n",
       "       66., 65., 68., 68., 68., 69., 66., 68., 69., 69., 66., 69., 70.,\n",
       "       66., 66., 65., 66., 67., 66., 69., 66., 69., 66., 70., 69., 66.,\n",
       "       70., 68., 68., 70., 67., 65., 67., 67., 69., 68., 68., 68., 66.,\n",
       "       66., 68., 68., 66., 68.])"
      ]
     },
     "execution_count": 19,
     "metadata": {},
     "output_type": "execute_result"
    }
   ],
   "source": [
    "GP1 = np.random.uniform(18,24,50)# Homeless Adult Age Group\n",
    "GP2 = np.random.uniform(25,44,50)# Homeless Adult Age Group\n",
    "GP3 = np.random.uniform(45,64,50)# Homeless Adult Age Group\n",
    "GP4 = np.random.uniform(65,70,50)# Homeless Adult Age Group\n",
    "GP = np.concatenate((GP1,GP2,GP3,GP4))# Total Homeless Adult Age Group\n",
    "\n",
    "GP.round(0)"
   ]
  },
  {
   "cell_type": "code",
   "execution_count": 20,
   "metadata": {},
   "outputs": [
    {
     "data": {
      "text/plain": [
       "200"
      ]
     },
     "execution_count": 20,
     "metadata": {},
     "output_type": "execute_result"
    }
   ],
   "source": [
    "len(GP)"
   ]
  },
  {
   "cell_type": "code",
   "execution_count": 6,
   "metadata": {},
   "outputs": [],
   "source": [
    "import matplotlib.pyplot as plt\n",
    "%matplotlib inline"
   ]
  },
  {
   "cell_type": "code",
   "execution_count": 21,
   "metadata": {},
   "outputs": [
    {
     "data": {
      "image/png": "[encoded data removed]",
      "text/plain": [
       "<Figure size 432x288 with 1 Axes>"
      ]
     },
     "metadata": {},
     "output_type": "display_data"
    }
   ],
   "source": [
    "plt.hist([GP1,GP2,GP3,GP4], label=['Group1','Group2','Group3','Group4'])\n",
    "plt.legend()\n",
    "plt.ylabel('Homeless Adults')\n",
    "plt.xlabel('Age Groups')\n",
    "plt.title('Homelessness Report September 2018')\n",
    "\n",
    "plt.show()\n"
   ]
  },
  {
   "cell_type": "code",
   "execution_count": 23,
   "metadata": {},
   "outputs": [
    {
     "data": {
      "text/plain": [
       "array([2, 1, 2, 1, 1, 1, 2, 1, 1, 1, 2, 1, 2, 1, 1, 1, 1, 1, 1, 2, 2, 2,\n",
       "       2, 1, 1, 1, 1, 1, 1, 2, 1, 1, 1, 2, 1, 1, 2, 1, 2, 2, 2, 1, 1, 2,\n",
       "       2, 2, 2, 2, 2, 2, 2, 2, 2, 2, 2, 1, 2, 2, 2, 1, 2, 2, 2, 1, 1, 2,\n",
       "       2, 1, 1, 2, 2, 2, 2, 1, 2, 2, 2, 2, 1, 2, 2, 2, 1, 2, 2, 1, 2, 2,\n",
       "       2, 1, 1, 1, 2, 2, 2, 1, 2, 1, 2, 2, 2, 1, 2, 2, 2, 2, 1, 1, 2, 1,\n",
       "       2, 1, 1, 1, 1, 2, 1, 2, 2, 2, 2, 2, 2, 2, 1, 1, 2, 1, 2, 2, 2, 2,\n",
       "       1, 1, 2, 1, 2, 1, 1, 2, 2, 2, 1, 1, 2, 1, 1, 1, 1, 2, 1, 2, 2, 2,\n",
       "       2, 2, 1, 1, 2, 1, 1, 1, 2, 1, 2, 1, 2, 1, 2, 2, 2, 2, 2, 1, 1, 1,\n",
       "       1, 2, 2, 2, 1, 2, 1, 2, 1, 2, 2, 2, 2, 2, 2, 2, 2, 2, 1, 1, 1, 1,\n",
       "       1, 2])"
      ]
     },
     "execution_count": 23,
     "metadata": {},
     "output_type": "execute_result"
    }
   ],
   "source": [
    "Male = 1\n",
    "Female = 2\n",
    "\n",
    "Gender = np.random.randint(1,3, 200)# 200 Homeless Adults\n",
    "Gender"
   ]
  },
  {
   "cell_type": "code",
   "execution_count": 24,
   "metadata": {},
   "outputs": [
    {
     "data": {
      "text/plain": [
       "200"
      ]
     },
     "execution_count": 24,
     "metadata": {},
     "output_type": "execute_result"
    }
   ],
   "source": [
    "len(Gender)"
   ]
  },
  {
   "cell_type": "code",
   "execution_count": 33,
   "metadata": {},
   "outputs": [
    {
     "data": {
      "image/png": "[encoded data removed]",
      "text/plain": [
       "<Figure size 432x288 with 1 Axes>"
      ]
     },
     "metadata": {},
     "output_type": "display_data"
    }
   ],
   "source": [
    "x = np.random.randint(1,3, 200)\n",
    "plt.hist(x)\n",
    "plt.ylabel('Homeless Adults')\n",
    "plt.xlabel('Gender,  Male = 1 , Female = 2')\n",
    "plt.title('Homelessness Report September 2018')\n",
    "plt.show()"
   ]
  },
  {
   "cell_type": "code",
   "execution_count": null,
   "metadata": {},
   "outputs": [],
   "source": []
  }
 ],
 "metadata": {
  "kernelspec": {
   "display_name": "Python 3",
   "language": "python",
   "name": "python3"
  },
  "language_info": {
   "codemirror_mode": {
    "name": "ipython",
    "version": 3
   },
   "file_extension": ".py",
   "mimetype": "text/x-python",
   "name": "python",
   "nbconvert_exporter": "python",
   "pygments_lexer": "ipython3",
   "version": "3.6.5"
  }
 },
 "nbformat": 4,
 "nbformat_minor": 2
}
